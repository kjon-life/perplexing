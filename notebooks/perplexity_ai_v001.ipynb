{
 "cells": [
  {
   "cell_type": "markdown",
   "id": "7637ecc0-103b-4283-a2b9-3d524222f7d4",
   "metadata": {},
   "source": [
    "### Building better prompts"
   ]
  },
  {
   "cell_type": "markdown",
   "id": "d82364c3-b985-4e83-8310-665bb7e8895f",
   "metadata": {},
   "source": [
    "An interesting window is open in most of the LLMs for tuning chat completions for usefulness.\n",
    "We begin with the basics of a Chat Completions API, and progress through prompt engineering tactics."
   ]
  },
  {
   "cell_type": "markdown",
   "id": "e841e3a1-25b8-4075-a442-5c5863b5bc29",
   "metadata": {},
   "source": [
    "### Import library"
   ]
  },
  {
   "cell_type": "code",
   "execution_count": 1,
   "id": "4115af98-e8eb-4b99-b7ef-ac56bfcd97de",
   "metadata": {},
   "outputs": [],
   "source": [
    "# Source keys from .env\n",
    "from dotenv import load_dotenv\n",
    "# Source operating system resources\n",
    "import os\n",
    "# Access libraries for AI  \n",
    "from openai import OpenAI\n",
    "# Standard library for API requests\n",
    "import requests\n",
    "# Enable working with Unix timestamps\n",
    "from datetime import datetime\n"
   ]
  },
  {
   "cell_type": "code",
   "execution_count": 3,
   "id": "4e534a3d-2174-43ab-99be-afed7e24a7a1",
   "metadata": {},
   "outputs": [],
   "source": [
    "# Load environment variables\n",
    "load_dotenv()\n",
    "api_key = os.getenv('PPLX_API_KEY')"
   ]
  },
  {
   "cell_type": "markdown",
   "id": "05036e15-d2f1-4d6e-8192-d4dbcb261be3",
   "metadata": {},
   "source": [
    "### Authenticate"
   ]
  },
  {
   "cell_type": "code",
   "execution_count": 4,
   "id": "00ba999f-fe96-4f4c-9b7b-f11b8618e704",
   "metadata": {},
   "outputs": [],
   "source": [
    "YOUR_API_KEY = api_key\n",
    "base_url = \"https://api.perplexity.ai\""
   ]
  },
  {
   "cell_type": "markdown",
   "id": "76f2519f-2c99-45d7-b6dc-e51a18d5f673",
   "metadata": {},
   "source": [
    "### Create API request with data"
   ]
  },
  {
   "cell_type": "code",
   "execution_count": 4,
   "id": "2440c52a-a773-46d0-b7a1-a0ecf83e1aa9",
   "metadata": {},
   "outputs": [
    {
     "name": "stdout",
     "output_type": "stream",
     "text": [
      "ChatCompletion(id='bd3582b6-0a76-451f-8d98-ca3491a0ec11', choices=[Choice(finish_reason='stop', index=0, logprobs=None, message=ChatCompletionMessage(content=\"The question of how many stars are in the universe is a complex one that has fascinated scientists and philosophers alike for centuries. While we can't give an exact number, estimates suggest that there are approximately **200 billion trillion stars** in the observable universe. This number is based on the estimated number of galaxies in the universe, which is thought to be around **2 trillion**, and the average number of stars in a galaxy, which is estimated to be around **100 billion**.\\n\\nHowever, it's important to note that these estimates are rough and based on current observations and understanding of the universe. The actual number of stars could be significantly different, and new discoveries are continually refining our understanding of the universe.\\n\\nOne of the challenges in estimating the number of stars is that not all galaxies are the same, and the number of stars in each galaxy can vary greatly. Additionally, there may be many more stars that are too distant or too faint to be detected by current telescopes.\\n\\nDespite these challenges, scientists continue to study the universe and refine their estimates. Missions like the European Space Agency's Gaia mission are helping to build a more accurate picture of the structure and evolution of our galaxy, the Milky Way, and the universe as a whole.\\n\\nSo while we can't give an exact number, the estimated 200 billion trillion stars in the universe is a staggering figure that highlights the vastness and complexity of the cosmos.\", role='assistant', function_call=None, tool_calls=None), delta={'role': 'assistant', 'content': ''})], created=1716261056, model='llama-3-sonar-large-32k-online', object='chat.completion', system_fingerprint=None, usage=CompletionUsage(completion_tokens=306, prompt_tokens=59, total_tokens=365))\n"
     ]
    }
   ],
   "source": [
    "# Build request components\n",
    "\n",
    "messages = [\n",
    "    {\n",
    "        \"role\": \"system\",\n",
    "        \"content\": (\n",
    "            \"You are an artificial intelligence assistant and you need to \"\n",
    "            \"engage in a helpful, detailed, polite conversation with a user.\"\n",
    "        ),\n",
    "    },\n",
    "    {\n",
    "        \"role\": \"user\",\n",
    "        \"content\": \"How many stars are in the universe?\",\n",
    "    },\n",
    "]\n",
    "\n",
    "client = OpenAI(api_key=YOUR_API_KEY, base_url=\"https://api.perplexity.ai\")\n",
    "\n",
    "# chat completion without streaming\n",
    "response = client.chat.completions.create(\n",
    "    model=\"llama-3-sonar-large-32k-online\",\n",
    "    messages=messages,\n",
    ")\n",
    "print(response)"
   ]
  },
  {
   "cell_type": "code",
   "execution_count": 5,
   "id": "c762be73-1587-43c7-949f-b2a13364c6e7",
   "metadata": {},
   "outputs": [
    {
     "name": "stdout",
     "output_type": "stream",
     "text": [
      "The question of how many stars are in the universe is a complex one that has fascinated scientists and philosophers alike for centuries. While we can't give an exact number, estimates suggest that there are approximately **200 billion trillion stars** in the observable universe. This number is based on the estimated number of galaxies in the universe, which is thought to be around **2 trillion**, and the average number of stars in a galaxy, which is estimated to be around **100 billion**.\n",
      "\n",
      "However, it's important to note that these estimates are rough and based on current observations and understanding of the universe. The actual number of stars could be significantly different, and new discoveries are continually refining our understanding of the universe.\n",
      "\n",
      "One of the challenges in estimating the number of stars is that not all galaxies are the same, and the number of stars in each galaxy can vary greatly. Additionally, there may be many more stars that are too distant or too faint to be detected by current telescopes.\n",
      "\n",
      "Despite these challenges, scientists continue to study the universe and refine their estimates. Missions like the European Space Agency's Gaia mission are helping to build a more accurate picture of the structure and evolution of our galaxy, the Milky Way, and the universe as a whole.\n",
      "\n",
      "So while we can't give an exact number, the estimated 200 billion trillion stars in the universe is a staggering figure that highlights the vastness and complexity of the cosmos.\n"
     ]
    }
   ],
   "source": [
    "# Print the message content\n",
    "print (response.choices[0].message.content)"
   ]
  },
  {
   "cell_type": "code",
   "execution_count": 10,
   "id": "5e80f3f2-923e-4c30-b89b-e531710c5bb9",
   "metadata": {},
   "outputs": [
    {
     "name": "stdout",
     "output_type": "stream",
     "text": [
      "ChatCompletion(id='1a99fa0b-1741-448d-bce8-06ed1c18565f', choices=[Choice(finish_reason='stop', index=0, logprobs=None, message=ChatCompletionMessage(content=\"To identify three under-exploited products that could generate $2000 a week online using only Faire and Instagram, an entrepreneur should focus on products with significant commercial potential, novelty, and alignment with their entrepreneurial spirit. Here are three potential products:\\n\\n1. **Eco-Friendly Home Decor**: With the growing awareness of environmental issues, eco-friendly home decor products made from sustainable materials could be a lucrative niche. Faire offers a wide range of wholesale home decor products, and Instagram's visual platform is ideal for showcasing these products. By highlighting the eco-friendly aspects and unique designs, an entrepreneur can attract customers willing to pay a premium for sustainable products.\\n\\n2. **Customizable Phone Cases**: Phone cases are a popular accessory, and offering customizable designs can tap into the demand for personalized products. Faire has a variety of phone case suppliers, and Instagram's features like Reels and Stories can be used to showcase the customization process and interact with potential customers. By leveraging Instagram's influencer network and user-generated content, an entrepreneur can create a buzz around their customizable phone cases.\\n\\n3. **Artisanal Food Products**: Specialty food products like artisanal chocolates, gourmet spices, or small-batch sauces can appeal to customers looking for unique flavors and high-quality ingredients. Faire connects entrepreneurs with wholesale suppliers of gourmet food products, and Instagram's foodie community can be leveraged to showcase these products. By highlighting the artisanal process, high-quality ingredients, and unique flavors, an entrepreneur can attract customers willing to pay a premium for specialty food products.\\n\\nTo succeed with these products, an entrepreneur should adopt strategies that are gender literate, eliminating gender stereotypes in content and promoting gender equality and diversity in business communications. This involves using inclusive language, showcasing diverse models or users, and highlighting the benefits of the products for all customers, regardless of gender. By creating a more inclusive and equal business environment, an entrepreneur can build a loyal customer base and generate $2000 a week online using Faire and Instagram.\", role='assistant', function_call=None, tool_calls=None), delta={'role': 'assistant', 'content': ''})], created=1716341700, model='llama-3-sonar-large-32k-online', object='chat.completion', system_fingerprint=None, usage=CompletionUsage(completion_tokens=406, prompt_tokens=140, total_tokens=546))\n"
     ]
    }
   ],
   "source": [
    "# Modifying the System Role\n",
    "\n",
    "messages = [\n",
    "    {\n",
    "        \"role\": \"system\",\n",
    "        \"content\": (\n",
    "            \"Your access to intelligence is comprehensive, so you present complex concepts \"\n",
    "            \"in college level English with clear structure and in concise, simple terms.\"\n",
    "            \"You never need to apologize and are forthright in presenting the facts \"\n",
    "            \"because you are responsible for telling only the truth of the intelligence available to you.\"\n",
    "            \"You review your responses to avoid repetition, and explain logically how they were generated.\"\n",
    "            \"You act as an entrepreneur with experience, and need the business to run itself.\"\n",
    "        ),\n",
    "    },\n",
    "    {\n",
    "        \"role\": \"user\",\n",
    "        \"content\": \"How an entrepreneur identify three under-exploited products which could generate $2000 a week\"\n",
    "        \" online using only Faire, and Instagram?\",\n",
    "    },\n",
    "]\n",
    "\n",
    "client = OpenAI(api_key=YOUR_API_KEY, base_url=\"https://api.perplexity.ai\")\n",
    "\n",
    "# chat completion without streaming\n",
    "response = client.chat.completions.create(\n",
    "    model=\"llama-3-sonar-large-32k-online\",\n",
    "    messages=messages,\n",
    ")\n",
    "print(response)\n"
   ]
  },
  {
   "cell_type": "code",
   "execution_count": 11,
   "id": "f9b60f76-8b8f-4a3c-855c-1e10e310f9a1",
   "metadata": {},
   "outputs": [
    {
     "name": "stdout",
     "output_type": "stream",
     "text": [
      "To identify three under-exploited products that could generate $2000 a week online using only Faire and Instagram, an entrepreneur should focus on products with significant commercial potential, novelty, and alignment with their entrepreneurial spirit. Here are three potential products:\n",
      "\n",
      "1. **Eco-Friendly Home Decor**: With the growing awareness of environmental issues, eco-friendly home decor products made from sustainable materials could be a lucrative niche. Faire offers a wide range of wholesale home decor products, and Instagram's visual platform is ideal for showcasing these products. By highlighting the eco-friendly aspects and unique designs, an entrepreneur can attract customers willing to pay a premium for sustainable products.\n",
      "\n",
      "2. **Customizable Phone Cases**: Phone cases are a popular accessory, and offering customizable designs can tap into the demand for personalized products. Faire has a variety of phone case suppliers, and Instagram's features like Reels and Stories can be used to showcase the customization process and interact with potential customers. By leveraging Instagram's influencer network and user-generated content, an entrepreneur can create a buzz around their customizable phone cases.\n",
      "\n",
      "3. **Artisanal Food Products**: Specialty food products like artisanal chocolates, gourmet spices, or small-batch sauces can appeal to customers looking for unique flavors and high-quality ingredients. Faire connects entrepreneurs with wholesale suppliers of gourmet food products, and Instagram's foodie community can be leveraged to showcase these products. By highlighting the artisanal process, high-quality ingredients, and unique flavors, an entrepreneur can attract customers willing to pay a premium for specialty food products.\n",
      "\n",
      "To succeed with these products, an entrepreneur should adopt strategies that are gender literate, eliminating gender stereotypes in content and promoting gender equality and diversity in business communications. This involves using inclusive language, showcasing diverse models or users, and highlighting the benefits of the products for all customers, regardless of gender. By creating a more inclusive and equal business environment, an entrepreneur can build a loyal customer base and generate $2000 a week online using Faire and Instagram.\n"
     ]
    }
   ],
   "source": [
    "# Print the message content\n",
    "print (response.choices[0].message.content)"
   ]
  },
  {
   "cell_type": "markdown",
   "id": "0d688988-0c1a-4c80-a974-9a2b3c41e39d",
   "metadata": {},
   "source": [
    "### Tracking token usage and monitoring costs"
   ]
  },
  {
   "cell_type": "code",
   "execution_count": 12,
   "id": "63f24a3b-ac03-4267-bc4a-b3d1a37359ad",
   "metadata": {},
   "outputs": [
    {
     "name": "stdout",
     "output_type": "stream",
     "text": [
      "Prompt tokens: 140\n",
      "Completion tokens: 406\n",
      "Request used 546 tokens\n"
     ]
    }
   ],
   "source": [
    "# Summarize token usage\n",
    "print(f\"Prompt tokens: {response.usage.prompt_tokens}\")\n",
    "print(f\"Completion tokens: {response.usage.completion_tokens}\")\n",
    "\n",
    "print(f\"Request used {response.usage.total_tokens} tokens\")"
   ]
  },
  {
   "cell_type": "code",
   "execution_count": 13,
   "id": "32b9e7fc-a26a-4f62-ad07-5b5d4c10c023",
   "metadata": {},
   "outputs": [
    {
     "name": "stdout",
     "output_type": "stream",
     "text": [
      "Request role was: assistant, and finished for stop at 2024-05-21 20:35:00\n",
      "The model used was: llama-3-sonar-large-32k-online\n"
     ]
    }
   ],
   "source": [
    "# Summarize the role of the message\n",
    "print(f\"Request role was: {response.choices[0].message.role}, and finished for {response.choices[0].finish_reason} at {datetime.fromtimestamp(response.created)}\")\n",
    "print(f\"The model used was: {response.model}\")"
   ]
  },
  {
   "cell_type": "markdown",
   "id": "df2a34e1-9450-4617-b5c0-20f0baebd423",
   "metadata": {},
   "source": [
    "## Prompting structure"
   ]
  },
  {
   "cell_type": "markdown",
   "id": "cb53169d-139f-4468-8cf6-5a536274379a",
   "metadata": {},
   "source": [
    "1. Use the latest models. For perplexity.ai API there is a [list](https://docs.perplexity.ai/docs/model-cards),  \n",
    "   ```llama-3-sonar-large-32k-online```  \n",
    "   For open-source  \n",
    "   ```mixtral-8x7b-instruct\t```  \n",
    "2. Instructions must be clear and specific"
   ]
  },
  {
   "cell_type": "markdown",
   "id": "16ec1dc0-5484-4539-bd29-14d999dc887e",
   "metadata": {},
   "source": [
    "3. Instruct at the beginning of the prompt\n",
    "\n",
    "4. Delimit distinct parts; The basic delimiters are ⎛ \\`\\`\\`{three back-ticks}\\`\\`\\`  ⎞\n",
    "⎛ \\\"\\\"\\\"{quotes}\\\"\\\"\\\"  ⎞【  {curly braces}  】"
   ]
  },
  {
   "cell_type": "markdown",
   "id": "4bf60d23-55f1-44a5-85fd-bda6aabcb25f",
   "metadata": {},
   "source": [
    "5. Precise, __descriptive__, with sufficient detail"
   ]
  },
  {
   "cell_type": "code",
   "execution_count": null,
   "id": "759da1dc-2a61-419c-b317-eba91931c865",
   "metadata": {},
   "outputs": [],
   "source": [
    "# define a reusable function\n",
    "\n",
    "# Create an example\n",
    "system_role = '''you are an experienced entrepreneur and only make investments which are probable and likely\n",
    "to make a profit'''\n",
    "\n",
    "prompt = f'''with text below outline making your first $1000 dollars on Faire?\n",
    "Support your examples by doing research \n",
    "Considerations:\n",
    "1. You have really clear ideas to be successful in using Faire to build a business\n",
    "2. You support your ideas with the three detailed steps you would take next based on research\n",
    "3. Your brand is Pellucid Life(TM)  \n",
    "4. Take time to review your answer before presenting about the text below\n",
    "Text: ```{text}```\n",
    "'''\n",
    "\n",
    "\n",
    "\n",
    "\n",
    "response = get_chatcom(Prompt)\n",
    "print(response)"
   ]
  }
 ],
 "metadata": {
  "kernelspec": {
   "display_name": "Python 3 (ipykernel)",
   "language": "python",
   "name": "python3"
  },
  "language_info": {
   "codemirror_mode": {
    "name": "ipython",
    "version": 3
   },
   "file_extension": ".py",
   "mimetype": "text/x-python",
   "name": "python",
   "nbconvert_exporter": "python",
   "pygments_lexer": "ipython3",
   "version": "3.11.0"
  }
 },
 "nbformat": 4,
 "nbformat_minor": 5
}
