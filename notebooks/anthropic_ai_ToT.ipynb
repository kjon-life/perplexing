{
 "cells": [
  {
   "cell_type": "markdown",
   "id": "cd441129-74be-4a7b-b217-3a9ad8e2f63a",
   "metadata": {},
   "source": [
    "## Anthropic APIs\n",
    "### Messages \n",
    "```code\n",
    "POST / v1 / messages\n",
    "```\n",
    "Operate using alternating `user` and `assistant` turns  \n",
    "Each input message must be an object with a `role` and `content`  \n",
    "The first message must always be the `user` message  \n",
    "\n",
    "To include a system prompt, use the top-level __system__ parameter — there is no __\"system\"__ role for input messages in the Messages API.\n"
   ]
  },
  {
   "cell_type": "markdown",
   "id": "fb54f79d-369c-48cc-b5d6-382811406aec",
   "metadata": {},
   "source": [
    "### Jupyter Notebooks interface  \n",
    "In general, it's important to understand that the Jupyter Notebook interface, while very convenient for **iterative development and exploration**, does not automatically persist the full execution state across sessions by default. For long-running jobs or important intermediate results, we explicitly save artifacts to disk.   \n",
    "\n",
    "We also look into workflow tools like Papermill to parameterize and execute notebooks in a more automated fashion that saves the output.  "
   ]
  },
  {
   "cell_type": "markdown",
   "id": "e841e3a1-25b8-4075-a442-5c5863b5bc29",
   "metadata": {},
   "source": [
    "### Import library(-ies)"
   ]
  },
  {
   "cell_type": "code",
   "execution_count": 17,
   "id": "4115af98-e8eb-4b99-b7ef-ac56bfcd97de",
   "metadata": {},
   "outputs": [
    {
     "name": "stdout",
     "output_type": "stream",
     "text": [
      "The history saving thread hit an unexpected error (OperationalError('attempt to write a readonly database')).History will not be written to the database.\n"
     ]
    }
   ],
   "source": [
    "# Source keys from an .env\n",
    "from dotenv import load_dotenv\n",
    "# Source operating system resources\n",
    "import os\n",
    "# Access libraries for AI  \n",
    "from openai import OpenAI\n",
    "# Standard library for API requests\n",
    "import requests\n",
    "# Enable working with Unix timestamps\n",
    "from datetime import datetime\n",
    "# Enable working with json\n",
    "import json\n",
    "# Enable display of html responses\n",
    "from IPython.display import display, HTML, Markdown, Latex\n",
    "# Iterate paths and more\n",
    "from pathlib import Path\n",
    "# For basic file handling \n",
    "import shutil\n",
    "# Search efficently\n",
    "import re"
   ]
  },
  {
   "cell_type": "markdown",
   "id": "05036e15-d2f1-4d6e-8192-d4dbcb261be3",
   "metadata": {},
   "source": [
    "## Authenticate"
   ]
  },
  {
   "cell_type": "code",
   "execution_count": 18,
   "id": "4e534a3d-2174-43ab-99be-afed7e24a7a1",
   "metadata": {},
   "outputs": [],
   "source": [
    "# Load environment variables\n",
    "load_dotenv()\n",
    "api_key_pplx = os.getenv('PPLX_API_KEY')\n",
    "api_key_claude = os.getenv('CLAUDE_API_KEY')"
   ]
  },
  {
   "cell_type": "code",
   "execution_count": 38,
   "id": "1249e2f2-cc1c-4815-a115-f5c4b2ddea64",
   "metadata": {},
   "outputs": [],
   "source": [
    "# Anthropic\n",
    "# curl https://api.anthropic.com/v1/messages --header \"x-api-key: YOUR_API_KEY\" ...\n",
    "base_url_claude = \"\""
   ]
  },
  {
   "cell_type": "code",
   "execution_count": 19,
   "id": "00ba999f-fe96-4f4c-9b7b-f11b8618e704",
   "metadata": {},
   "outputs": [],
   "source": [
    "# Perplexity\n",
    "base_url_pplx = \"https://api.perplexity.ai\""
   ]
  },
  {
   "cell_type": "markdown",
   "id": "76f2519f-2c99-45d7-b6dc-e51a18d5f673",
   "metadata": {},
   "source": [
    "### Keep it DRY"
   ]
  },
  {
   "cell_type": "code",
   "execution_count": 20,
   "id": "2440c52a-a773-46d0-b7a1-a0ecf83e1aa9",
   "metadata": {},
   "outputs": [],
   "source": [
    "# Choose model\n",
    "model = \"llama-3-sonar-large-32k-online\"\n",
    "\n",
    "# Create a client\n",
    "client = OpenAI(api_key=api_key_pplx, base_url=base_url_pplx)"
   ]
  },
  {
   "cell_type": "code",
   "execution_count": 21,
   "id": "38aa9d39-ac76-4a80-b656-96a796686206",
   "metadata": {},
   "outputs": [],
   "source": [
    "# Make a request\n",
    "def get_completion(user_prompt, system_role, model):\n",
    "    messages = [\n",
    "        {\"role\": \"system\", \"content\": system_role},\n",
    "        {\"role\": \"user\", \"content\": user_prompt}\n",
    "    ]\n",
    "\n",
    "    # chat completion without streaming\n",
    "    response = client.chat.completions.create(\n",
    "        model=model,\n",
    "        messages=messages,\n",
    "    )\n",
    "    # Print the message content\n",
    "    return response"
   ]
  },
  {
   "cell_type": "code",
   "execution_count": 22,
   "id": "f7f21741-fcd7-41d9-abe4-b6d29360c698",
   "metadata": {},
   "outputs": [],
   "source": [
    "# Accomodate common formats\n",
    "def get_completion_json(system_role, user_prompt, model):\n",
    "    # Note authentication is configured above\n",
    "\n",
    "    \n",
    "    # chat completion without streaming\n",
    "    response = client.chat.completions.create(\n",
    "        model=model,\n",
    "        messages=messages,\n",
    "        response_format={\"type\": \"json_object\"}\n",
    "    )\n",
    "                         \n",
    "    # Print the message content\n",
    "    return response"
   ]
  },
  {
   "cell_type": "code",
   "execution_count": 23,
   "id": "e9518563-fd60-4d05-8071-1aa03a52d03a",
   "metadata": {},
   "outputs": [],
   "source": [
    "# Print the content of the response\n",
    "def summarize_message(from_the_ai):\n",
    "    # Summarize the message\n",
    "    print(f\"The {response.choices[0].message.role} role finished \\n♢ with \\\"{response.choices[0].finish_reason}\\\" at: {datetime.fromtimestamp(response.created)}\")\n",
    "    print(f\"The model used was: {response.model}\")\n",
    "    print(f\"♢ The message was: \\n\\n{response.choices[0].message.content}\")"
   ]
  },
  {
   "cell_type": "code",
   "execution_count": 24,
   "id": "0fbe539c-7e4a-4b05-9035-863928235022",
   "metadata": {},
   "outputs": [],
   "source": [
    "# Pretty print HTML response\n",
    "def pretty_print_html(from_the_ai):\n",
    "    display(HTML(response.choices[0].message.content))"
   ]
  },
  {
   "cell_type": "code",
   "execution_count": 25,
   "id": "d0654925-a4a2-4074-b447-03d67884618c",
   "metadata": {},
   "outputs": [],
   "source": [
    "# Pretty print Markdown response\n",
    "def pretty_print_markdown(from_the_ai):\n",
    "    display(Markdown(response.choices[0].message.content))"
   ]
  },
  {
   "cell_type": "markdown",
   "id": "df2a34e1-9450-4617-b5c0-20f0baebd423",
   "metadata": {},
   "source": [
    "### Processing files"
   ]
  },
  {
   "cell_type": "markdown",
   "id": "cb53169d-139f-4468-8cf6-5a536274379a",
   "metadata": {},
   "source": [
    "1. Use the latest models. For perplexity.ai API there is a [list](https://docs.perplexity.ai/docs/model-cards):   \n",
    "2. Instructions must be clear and specific\n",
    "3. Instruct at the beginning of the prompt\n",
    "4. Delimit distinct parts with delimiters and use variables to chunk roles, instructions  "
   ]
  },
  {
   "cell_type": "markdown",
   "id": "4bf60d23-55f1-44a5-85fd-bda6aabcb25f",
   "metadata": {},
   "source": [
    "5. Precise, __descriptive__, with sufficient detail"
   ]
  },
  {
   "cell_type": "code",
   "execution_count": null,
   "id": "c8695aeb-b4a3-4fc3-8330-a576c7359b8f",
   "metadata": {},
   "outputs": [],
   "source": [
    "# Create a basic file handling function\n",
    "# Previously we import os\n",
    "# AND import shutil\n",
    "\n",
    "def copy_item(src, dst):\n",
    "    try:\n",
    "        if os.path.isfile(src):\n",
    "            # Copia o arquivo (Copy the file)\n",
    "            shutil.copy(src, dst)\n",
    "        elif os.path.isdir(src):\n",
    "            # Copia a pasta e seu conteúdo (Copy the folder and its contents)\n",
    "            shutil.copytree(src, dst)\n",
    "        else:\n",
    "            print(f\"Item não encontrado: {src}\")\n",
    "            return\n",
    "        \n",
    "        print(f\"Item copiado com sucesso: {src} -> {dst}\")\n",
    "    except FileExistsError:\n",
    "        print(f\"O item de destino já existe: {dst}\")\n",
    "    except PermissionError:\n",
    "        print(f\"Permissão negada ao copiar o item: {src}\")\n",
    "    except Exception as e:\n",
    "        print(f\"Erro ao copiar o item: {src} - {str(e)}\")\n",
    "\n",
    "def move_item(src, dst):\n",
    "    try:\n",
    "        # Move o arquivo ou pasta (Move the file or folder)\n",
    "        shutil.move(src, dst)\n",
    "        print(f\"Item movido com sucesso: {src} -> {dst}\")\n",
    "    except FileNotFoundError:\n",
    "        print(f\"Item de origem não encontrado: {src}\")\n",
    "    except shutil.Error as e:\n",
    "        print(f\"Erro ao mover o item: {src} - {str(e)}\")\n",
    "    except Exception as e:\n",
    "        print(f\"Erro ao mover o item: {src} - {str(e)}\")\n",
    "\n",
    "def delete_item(item_path):\n",
    "    try:\n",
    "        if os.path.isfile(item_path):\n",
    "            # Remove o arquivo (Remove the file)\n",
    "            os.remove(item_path)\n",
    "        elif os.path.isdir(item_path):\n",
    "            # Remove a pasta e seu conteúdo (Remove the folder and its contents)\n",
    "            shutil.rmtree(item_path)\n",
    "        else:\n",
    "            print(f\"Item não encontrado: {item_path}\")\n",
    "            return\n",
    "        \n",
    "        print(f\"Item excluído com sucesso: {item_path}\")\n",
    "    except PermissionError:\n",
    "        print(f\"Permissão negada ao excluir o item: {item_path}\")\n",
    "    except Exception as e:\n",
    "        print(f\"Erro ao excluir o item: {item_path} - {str(e)}\")"
   ]
  },
  {
   "cell_type": "code",
   "execution_count": null,
   "id": "2aef0505-6e0c-462f-a84a-83628aede5d6",
   "metadata": {},
   "outputs": [],
   "source": [
    "pretty_print_markdown(response)"
   ]
  },
  {
   "cell_type": "markdown",
   "id": "227954ce-1408-43c8-8b61-7e61085b109d",
   "metadata": {},
   "source": [
    "### Display"
   ]
  },
  {
   "cell_type": "code",
   "execution_count": null,
   "id": "0828a50d-8eb0-46b1-af50-7ed493d5313a",
   "metadata": {},
   "outputs": [],
   "source": [
    "pretty_print_markdown(response)"
   ]
  },
  {
   "cell_type": "markdown",
   "id": "106f9c26-4d15-49fe-8053-278f746ee267",
   "metadata": {},
   "source": [
    "### Process files"
   ]
  },
  {
   "cell_type": "code",
   "execution_count": null,
   "id": "50766812-bd25-4f9d-aac8-1ea3acb3096e",
   "metadata": {},
   "outputs": [],
   "source": [
    "# Use files as inputs for the notebook\n",
    "this_cwd = Path.cwd()\n",
    "print(this_cwd.name)\n",
    "# vs\n",
    "get_cwd = os.getcwd()\n",
    "cwd_name = os.path.basename(get_cwd)\n",
    "print(cwd_name)"
   ]
  },
  {
   "cell_type": "code",
   "execution_count": null,
   "id": "ef87abfd-65af-4a4b-ac97-ad0bba81346a",
   "metadata": {},
   "outputs": [],
   "source": [
    "# pathlib seems cleaner, so \n",
    "csv_files = list(this_cwd.glob(\"*.csv\"))\n",
    "\n",
    "for file_path in csv_files:\n",
    "    print(file_path)\n",
    "else:\n",
    "    print(f\"no csvs globbed in {this_cwd.name}\")\n",
    "\n"
   ]
  },
  {
   "cell_type": "code",
   "execution_count": null,
   "id": "2da0a6a9-0c8f-40a7-816b-130c1151946e",
   "metadata": {},
   "outputs": [],
   "source": [
    "# Iterate the files\n",
    "for item in this_cwd.iterdir():\n",
    "    print(f\"a file: {item.name}\")\n",
    "    "
   ]
  },
  {
   "cell_type": "code",
   "execution_count": null,
   "id": "f28061a8-e452-4057-89d9-8ea731d689b9",
   "metadata": {},
   "outputs": [],
   "source": [
    "# but wait...is it really?\n",
    "for item in this_cwd.iterdir():\n",
    "    if item.is_file() and item.suffix != '':\n",
    "        item_stats = item.stat()\n",
    "        print(f\"File: {item.name}, Suffix: {item.suffix}, Size: {item_stats.st_size} bytes\")\n",
    "    elif item.is_dir():\n",
    "        print(f\"{item.name} is a directory\")\n",
    "    else:\n",
    "        print(f\"{item.name} is not a regular file or directory\")"
   ]
  },
  {
   "cell_type": "markdown",
   "id": "ed1bed4f-9dce-4d55-af96-2bc988c287db",
   "metadata": {},
   "source": [
    "# Entry-level+ ToT"
   ]
  },
  {
   "cell_type": "markdown",
   "id": "14e1b0eb-5c5d-4f75-a18a-1f3b318f7b50",
   "metadata": {},
   "source": [
    "Early papers on ToT were premised on piping requests to the model, typicaly w Python. Some explore CoT as reasonable in a single-sentance prompt. \n",
    "Later we find recommendation for \"using ToT on tasks requiring deliberate reasoning, on which CoT struggles.\" [@yao2023tree] [[Yao et al., 2023]](https://arxiv.org/abs/2305.10601)\n",
    "\n",
    "From [\"Tree-of-Thoughts\"](http://arxiv.org/abs/2305.10601) by princeton-nlp we get a look at ToT with these more advanced features:\n",
    "* Adaptive generation of thoughts\n",
    "* Dynamic stopping criteria\n",
    "* Support for both breadth-first search (BFS) and depth-first search (DFS) strategies\n",
    "\n",
    "The [Tweet stream](https://x.com/ShunyuYao12/status/1659357547474681857) is a 1 minute introduction."
   ]
  },
  {
   "cell_type": "code",
   "execution_count": null,
   "id": "05b7cce5-33a7-464d-844e-80a8625e1b83",
   "metadata": {},
   "outputs": [],
   "source": [
    "# previously we imported from IPython.display import display, HTML\n",
    "\n",
    "message_content = message.content\n",
    "\n",
    "# Extract the text from the TextBlock\n",
    "text_block = message.content[0]\n",
    "text = text_block.text\n",
    "print(text)"
   ]
  },
  {
   "cell_type": "markdown",
   "id": "7dbfae49-3b7c-4456-b4b0-53424c6172dd",
   "metadata": {
    "editable": true,
    "slideshow": {
     "slide_type": ""
    },
    "tags": []
   },
   "source": [
    "## References\n",
    "\n",
    "```{bibliography}\n",
    ":style: plain\n",
    "```"
   ]
  }
 ],
 "metadata": {
  "kernelspec": {
   "display_name": "Python 3 (ipykernel)",
   "language": "python",
   "name": "python3"
  },
  "language_info": {
   "codemirror_mode": {
    "name": "ipython",
    "version": 3
   },
   "file_extension": ".py",
   "mimetype": "text/x-python",
   "name": "python",
   "nbconvert_exporter": "python",
   "pygments_lexer": "ipython3",
   "version": "3.11.0"
  }
 },
 "nbformat": 4,
 "nbformat_minor": 5
}
