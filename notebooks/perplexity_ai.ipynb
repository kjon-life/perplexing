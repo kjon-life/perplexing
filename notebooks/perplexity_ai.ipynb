{
 "cells": [
  {
   "cell_type": "markdown",
   "id": "7637ecc0-103b-4283-a2b9-3d524222f7d4",
   "metadata": {},
   "source": [
    "## Building better prompts"
   ]
  },
  {
   "cell_type": "markdown",
   "id": "d82364c3-b985-4e83-8310-665bb7e8895f",
   "metadata": {},
   "source": [
    "An interesting window is open in most of the LLMs for tuning chat completions for usefulness.\n",
    "We begin with the basics of a Chat Completions API, and progress through prompt engineering tactics."
   ]
  },
  {
   "cell_type": "markdown",
   "id": "e841e3a1-25b8-4075-a442-5c5863b5bc29",
   "metadata": {},
   "source": [
    "## Import library(-ies)"
   ]
  },
  {
   "cell_type": "code",
   "execution_count": 13,
   "id": "4115af98-e8eb-4b99-b7ef-ac56bfcd97de",
   "metadata": {},
   "outputs": [],
   "source": [
    "# Source keys from .env\n",
    "from dotenv import load_dotenv\n",
    "# Source operating system resources\n",
    "import os\n",
    "# Access libraries for AI  \n",
    "from openai import OpenAI\n",
    "# Standard library for API requests\n",
    "import requests\n",
    "# Enable working with Unix timestamps\n",
    "from datetime import datetime\n",
    "# Enable working with json\n",
    "import json\n"
   ]
  },
  {
   "cell_type": "code",
   "execution_count": 2,
   "id": "4e534a3d-2174-43ab-99be-afed7e24a7a1",
   "metadata": {},
   "outputs": [],
   "source": [
    "# Load environment variables\n",
    "load_dotenv()\n",
    "api_key = os.getenv('PPLX_API_KEY')"
   ]
  },
  {
   "cell_type": "markdown",
   "id": "05036e15-d2f1-4d6e-8192-d4dbcb261be3",
   "metadata": {},
   "source": [
    "## Authenticate"
   ]
  },
  {
   "cell_type": "code",
   "execution_count": 3,
   "id": "00ba999f-fe96-4f4c-9b7b-f11b8618e704",
   "metadata": {},
   "outputs": [],
   "source": [
    "YOUR_API_KEY = api_key\n",
    "base_url = \"https://api.perplexity.ai\""
   ]
  },
  {
   "cell_type": "markdown",
   "id": "76f2519f-2c99-45d7-b6dc-e51a18d5f673",
   "metadata": {},
   "source": [
    "## Keep it DRY"
   ]
  },
  {
   "cell_type": "code",
   "execution_count": 4,
   "id": "2440c52a-a773-46d0-b7a1-a0ecf83e1aa9",
   "metadata": {},
   "outputs": [],
   "source": [
    "# Choose model\n",
    "model = \"llama-3-sonar-large-32k-online\"\n",
    "\n",
    "# Create a client\n",
    "client = OpenAI(api_key=YOUR_API_KEY, base_url=\"https://api.perplexity.ai\")\n",
    "\n",
    "def get_completion(user_prompt, system_role, model):\n",
    "    messages = [\n",
    "        {\"role\": \"system\", \"content\": system_role},\n",
    "        {\"role\": \"user\", \"content\": user_prompt}\n",
    "    ]\n",
    "\n",
    "    # chat completion without streaming\n",
    "    response = client.chat.completions.create(\n",
    "        model=model,\n",
    "        messages=messages,\n",
    "    )\n",
    "    # Print the message content\n",
    "    return response\n",
    "\n",
    "#print(response)\n",
    "# Print the message content\n",
    "#print (response.choices[0].message.content)"
   ]
  },
  {
   "cell_type": "markdown",
   "id": "df2a34e1-9450-4617-b5c0-20f0baebd423",
   "metadata": {},
   "source": [
    "## Basic instructions"
   ]
  },
  {
   "cell_type": "markdown",
   "id": "cb53169d-139f-4468-8cf6-5a536274379a",
   "metadata": {},
   "source": [
    "1. Use the latest models. For perplexity.ai API there is a [list](https://docs.perplexity.ai/docs/model-cards):  \n",
    "   ```llama-3-sonar-large-32k-online```  \n",
    "   We can use open-source:    \n",
    "   ```mixtral-8x7b-instruct\t```  \n",
    "2. Instructions must be clear and specific\n",
    "3. Instruct at the beginning of the prompt\n",
    "4. Delimit distinct parts; The basic delimiters are ⎛ \\`\\`\\`{three back-ticks}\\`\\`\\` ⎞ ⎛ \\\"\\\"\\\"{quotes}\\\"\\\"\\\" ⎞ ⎛ {curly braces} ⎞  "
   ]
  },
  {
   "cell_type": "markdown",
   "id": "16ec1dc0-5484-4539-bd29-14d999dc887e",
   "metadata": {},
   "source": [
    "## Better instructions"
   ]
  },
  {
   "cell_type": "markdown",
   "id": "4bf60d23-55f1-44a5-85fd-bda6aabcb25f",
   "metadata": {},
   "source": [
    "5. Precise, __descriptive__, with sufficient detail"
   ]
  },
  {
   "cell_type": "code",
   "execution_count": 28,
   "id": "5e9e5e59-66f6-48fc-828d-2558c5b9c720",
   "metadata": {},
   "outputs": [
    {
     "name": "stdout",
     "output_type": "stream",
     "text": [
      "ChatCompletion(id='1a99fa0b-1741-448d-bce8-06ed1c18565f', choices=[Choice(finish_reason='stop', index=0, logprobs=None, message=ChatCompletionMessage(content=\"To identify three under-exploited products that could generate $2000 a week online using only Faire and Instagram, an entrepreneur should focus on products with significant commercial potential, novelty, and alignment with their entrepreneurial spirit. Here are three potential products:\\n\\n1. **Eco-Friendly Home Decor**: With the growing awareness of environmental issues, eco-friendly home decor products made from sustainable materials could be a lucrative niche. Faire offers a wide range of wholesale home decor products, and Instagram's visual platform is ideal for showcasing these products. By highlighting the eco-friendly aspects and unique designs, an entrepreneur can attract customers willing to pay a premium for sustainable products.\\n\\n2. **Customizable Phone Cases**: Phone cases are a popular accessory, and offering customizable designs can tap into the demand for personalized products. Faire has a variety of phone case suppliers, and Instagram's features like Reels and Stories can be used to showcase the customization process and interact with potential customers. By leveraging Instagram's influencer network and user-generated content, an entrepreneur can create a buzz around their customizable phone cases.\\n\\n3. **Artisanal Food Products**: Specialty food products like artisanal chocolates, gourmet spices, or small-batch sauces can appeal to customers looking for unique flavors and high-quality ingredients. Faire connects entrepreneurs with wholesale suppliers of gourmet food products, and Instagram's foodie community can be leveraged to showcase these products. By highlighting the artisanal process, high-quality ingredients, and unique flavors, an entrepreneur can attract customers willing to pay a premium for specialty food products.\\n\\nTo succeed with these products, an entrepreneur should adopt strategies that are gender literate, eliminating gender stereotypes in content and promoting gender equality and diversity in business communications. This involves using inclusive language, showcasing diverse models or users, and highlighting the benefits of the products for all customers, regardless of gender. By creating a more inclusive and equal business environment, an entrepreneur can build a loyal customer base and generate $2000 a week online using Faire and Instagram.\", role='assistant', function_call=None, tool_calls=None), delta={'role': 'assistant', 'content': ''})], created=1716341700, model='llama-3-sonar-large-32k-online', object='chat.completion', system_fingerprint=None, usage=CompletionUsage(completion_tokens=406, prompt_tokens=140, total_tokens=546))\n"
     ]
    }
   ],
   "source": [
    "print(response)"
   ]
  },
  {
   "cell_type": "code",
   "execution_count": 29,
   "id": "759da1dc-2a61-419c-b317-eba91931c865",
   "metadata": {},
   "outputs": [
    {
     "name": "stdout",
     "output_type": "stream",
     "text": [
      "ChatCompletion(id='b1136a25-4438-473a-af91-be9432661623', choices=[Choice(finish_reason='stop', index=0, logprobs=None, message=ChatCompletionMessage(content=\"To identify three under-exploited products that could generate $2000 a week online using only Faire and Instagram, I would take the following steps:\\n\\n**Step 1: Research and Identify Products**\\nI would start by researching products that are not commonly found on Faire or are underserved in the market. I would use tools like Google Trends, Amazon Best Sellers, and eBay to identify products that have a high demand but low competition. I would also consider products that are not listed on the U.S. Department of Labor's List of Goods Produced by Child Labor or Forced Labor.\\n\\n**Step 2: Validate Product Demand**\\nOnce I have identified potential products, I would validate their demand using Instagram. I would create a business account on Instagram and post high-quality images or videos of the products. I would then use Instagram Insights to track engagement, reach, and conversions. I would also use Instagram's polling feature to ask followers if they would be interested in purchasing the products.\\n\\n**Step 3: Source Products from Faire**\\nAfter validating product demand, I would source the products from Faire. I would search for suppliers on Faire that offer the identified products at competitive prices. I would also ensure that the suppliers have a good reputation on Faire and comply with labor laws. I would then negotiate with the suppliers to get the best possible prices and terms.\\n\\nBased on my research, here are three under-exploited products that could generate $2000 a week online using only Faire and Instagram:\\n\\n1. **Handmade Jewelry from Colombia**\\nColombia is known for its high-quality handmade jewelry, but it is not commonly found on Faire. I would source handmade jewelry from Colombian suppliers on Faire and market them on Instagram as unique, high-quality, and ethically sourced products.\\n\\n2. **Artisanal Home Decor from India**\\nIndia is famous for its artisanal home decor products, but they are often underserved on Faire. I would source artisanal home decor products from Indian suppliers on Faire and market them on Instagram as unique, handmade, and culturally rich products.\\n\\n3. **Natural Skincare Products from Taiwan**\\nTaiwan is known for its natural skincare products, but they are not commonly found on Faire. I would source natural skincare products from Taiwanese suppliers on Faire and market them on Instagram as natural, organic, and effective products.\\n\\nBy following these steps and identifying under-exploited products, I believe it is possible to generate $2000 a week online using only Faire and Instagram.\", role='assistant', function_call=None, tool_calls=None), delta={'role': 'assistant', 'content': ''})], created=1716346085, model='llama-3-sonar-large-32k-online', object='chat.completion', system_fingerprint=None, usage=CompletionUsage(completion_tokens=516, prompt_tokens=287, total_tokens=803))\n"
     ]
    }
   ],
   "source": [
    "# define a better prompt\n",
    "system_role = '''you are an experienced entrepreneur and only make investments which are probable and likely\n",
    "to make a profit\n",
    "Your access to intelligence is comprehensive, so you present complex concepts\n",
    "in college level English with clear structure and in concise, simple terms.\n",
    "You never need to apologize and are forthright in presenting the facts\n",
    "because you are responsible for telling only the truth of the source data available to you.\n",
    "You review your responses to avoid repetition, and explain logically how they were generated.\n",
    "You advise as an entrepreneur with experience building self-sustaining businesses\n",
    "You do not need to provide political or social opinions about race, religion, creed, genetics, biology, age, and related issues\n",
    "'''\n",
    "\n",
    "prompt = f'''with text below outline making your first $1000 dollars on Faire?\n",
    "Support your examples with research rationalle\n",
    "Considerations:\n",
    "1. You have really clear ideas to be successful in using Faire to build a business\n",
    "2. You support your ideas with the three detailed steps you would take next based on research\n",
    "3. Your brand is kJon Life(TM)  \n",
    "4. Take time to review your answer before presenting about the text below\n",
    "Text: ```how to identify three under-exploited products which could generate $2000 a week\n",
    "        online using only Faire, and Instagram?```\n",
    "'''\n",
    "\n",
    "#response = get_completion(user_prompt=prompt, system_role=system_role, model=model)\n",
    "the_response = '''ChatCompletion(id='b1136a25-4438-473a-af91-be9432661623', choices=[Choice(finish_reason='stop', index=0, logprobs=None, message=ChatCompletionMessage(content=\"To identify three under-exploited products that could generate $2000 a week online using only Faire and Instagram, I would take the following steps:\\n\\n**Step 1: Research and Identify Products**\\nI would start by researching products that are not commonly found on Faire or are underserved in the market. I would use tools like Google Trends, Amazon Best Sellers, and eBay to identify products that have a high demand but low competition. I would also consider products that are not listed on the U.S. Department of Labor's List of Goods Produced by Child Labor or Forced Labor.\\n\\n**Step 2: Validate Product Demand**\\nOnce I have identified potential products, I would validate their demand using Instagram. I would create a business account on Instagram and post high-quality images or videos of the products. I would then use Instagram Insights to track engagement, reach, and conversions. I would also use Instagram's polling feature to ask followers if they would be interested in purchasing the products.\\n\\n**Step 3: Source Products from Faire**\\nAfter validating product demand, I would source the products from Faire. I would search for suppliers on Faire that offer the identified products at competitive prices. I would also ensure that the suppliers have a good reputation on Faire and comply with labor laws. I would then negotiate with the suppliers to get the best possible prices and terms.\\n\\nBased on my research, here are three under-exploited products that could generate $2000 a week online using only Faire and Instagram:\\n\\n1. **Handmade Jewelry from Colombia**\\nColombia is known for its high-quality handmade jewelry, but it is not commonly found on Faire. I would source handmade jewelry from Colombian suppliers on Faire and market them on Instagram as unique, high-quality, and ethically sourced products.\\n\\n2. **Artisanal Home Decor from India**\\nIndia is famous for its artisanal home decor products, but they are often underserved on Faire. I would source artisanal home decor products from Indian suppliers on Faire and market them on Instagram as unique, handmade, and culturally rich products.\\n\\n3. **Natural Skincare Products from Taiwan**\\nTaiwan is known for its natural skincare products, but they are not commonly found on Faire. I would source natural skincare products from Taiwanese suppliers on Faire and market them on Instagram as natural, organic, and effective products.\\n\\nBy following these steps and identifying under-exploited products, I believe it is possible to generate $2000 a week online using only Faire and Instagram.\", role='assistant', function_call=None, tool_calls=None), delta={'role': 'assistant', 'content': ''})], created=1716346085, model='llama-3-sonar-large-32k-online', object='chat.completion', system_fingerprint=None, usage=CompletionUsage(completion_tokens=516, prompt_tokens=287, total_tokens=803))\n",
    "'''\n",
    "\n",
    "print(the_response)\n"
   ]
  },
  {
   "cell_type": "code",
   "execution_count": 23,
   "id": "e9518563-fd60-4d05-8071-1aa03a52d03a",
   "metadata": {},
   "outputs": [],
   "source": [
    "def summarize_message(from_the_ai):\n",
    "    # Summarize the message\n",
    "    print(f\"The {response.choices[0].message.role} role finished \\n♢ with \\\"{response.choices[0].finish_reason}\\\" at: {datetime.fromtimestamp(response.created)}\")\n",
    "    print(f\"The model used was: {response.model}\")\n",
    "    print(f\"♢ The message was: \\n\\n{response.choices[0].message.content}\")"
   ]
  },
  {
   "cell_type": "markdown",
   "id": "dd664c68-a577-4dc2-8e1d-36846aefc7d0",
   "metadata": {},
   "source": [
    "### Few shot prompting"
   ]
  },
  {
   "cell_type": "code",
   "execution_count": 7,
   "id": "507b524e-5995-4c24-a19a-e39e8d710569",
   "metadata": {},
   "outputs": [],
   "source": [
    "# when zero shot prompting produces insufficient response \n",
    "system_role = '''you are an experienced entrepreneur and assess knowledge for the \n",
    "probability and likelihood of generating revenue.\n",
    "Your access to intelligence is comprehensive, so you present complex concepts\n",
    "in college level English with clear structure and in concise, simple terms.\n",
    "You avoid polemny, especially political or social, especially about\n",
    "equality, race, religion, creed, genetics, biology, age, and environmental issues.\n",
    "You never need to apologize and are forthright in presenting the facts\n",
    "because you really do have full access to the source data available to you.\n",
    "You review your responses to avoid repetition, and explain logically how they were generated.\n",
    "You advise as an entrepreneur intent on creating self-sustaining businesses\n",
    "which support people in finding a place to belong and be in service\n",
    "'''\n",
    "\n",
    "prompt = f'''\n",
    "Your responses follow a consistent format.\n",
    "\n",
    "[entrepreneur]: Teach me about making money with Faire\n",
    "\n",
    "[investor]: Find products which are delightful and easy to fulfill;\\\n",
    "1. **Handmade Jewelry from Colombia**\\\n",
    "Colombia is known for its high-quality handmade jewelry, but it is not commonly found on Faire. I would source handmade jewelry from Colombian suppliers on Faire and market them on Instagram as unique, high-quality, and ethically sourced products.\\\n",
    "2. **Natural Skincare Products from Taiwan**\\\n",
    "Taiwan is known for its natural skincare products, but they are not commonly found on Faire. I would source natural skincare products from Taiwanese suppliers on Faire and market them on Instagram as natural, organic, and effective products.\\\n",
    "\n",
    "[entrepreneur]: Teach me about making money with Shopify\n",
    "'''\n",
    "\n",
    "response = get_completion(user_prompt=prompt, system_role=system_role, model=model)\n"
   ]
  },
  {
   "cell_type": "code",
   "execution_count": 8,
   "id": "2bc2040b-7b3a-468a-b625-c45d712e2bc1",
   "metadata": {},
   "outputs": [
    {
     "name": "stdout",
     "output_type": "stream",
     "text": [
      "ChatCompletion(id='c361f731-00ea-4cf6-a420-d373ff195f36', choices=[Choice(finish_reason='stop', index=0, logprobs=None, message=ChatCompletionMessage(content=\"**Unlocking Profitability on Shopify: A Strategic Approach**\\n\\nAs an entrepreneur, I'll guide you through a structured framework to maximize revenue potential on Shopify. This approach focuses on identifying profitable niches, optimizing product offerings, and leveraging Shopify's features to drive sales.\\n\\n**I. Niche Selection**\\n\\n1. **Pet Owners and Animal Lovers**\\nCreate a store catering to pet owners and animal lovers, offering unique, high-quality products such as customized pet accessories, natural pet food, and pet grooming tools. Partner with suppliers on Shopify to ensure a diverse product range.\\n2. **Home Decor and Organization**\\nTarget the home decor and organization market, providing products like minimalist furniture, decorative items, and storage solutions. Collaborate with suppliers to offer exclusive designs and competitive pricing.\\n\\n**II. Product Optimization**\\n\\n1. **Private Labeling**\\nPartner with suppliers to create private-label products, allowing for customized branding, packaging, and pricing. This strategy increases profit margins and differentiates your store from competitors.\\n2. **Bundling and Kits**\\nOffer bundled products or kits that complement each other, increasing average order value and enhancing customer satisfaction.\\n\\n**III. Shopify Features and Marketing**\\n\\n1. **Leverage Shopify Apps**\\nUtilize apps like Oberlo, AliExpress, or Dsers to streamline product sourcing, inventory management, and order fulfillment. Apps like ReConvert or LoyaltyLion can enhance customer retention and encourage repeat business.\\n2. **Influencer and Affiliate Marketing**\\nCollaborate with influencers or affiliates in your niche to promote products, increasing brand visibility and driving targeted traffic to your store.\\n3. **Optimize Store Design and UX**\\nEnsure a seamless user experience by optimizing your store's design, navigation, and checkout process. Utilize Shopify's built-in features, such as product recommendations and abandoned cart recovery, to maximize conversions.\\n\\n**IV. Performance Monitoring and Improvement**\\n\\n1. **Analytics and Performance Tracking**\\nRegularly monitor key performance indicators (KPIs) like conversion rates, average order value, and customer acquisition costs. Analyze data to identify areas for improvement and optimize strategies accordingly.\\n2. **A/B Testing and Experimentation**\\nConduct A/B tests on product pages, email marketing campaigns, and social media ads to refine marketing strategies and improve ROI.\\n\\nBy following this structured approach, you can increase your chances of success on Shopify and build a profitable online business.\", role='assistant', function_call=None, tool_calls=None), delta={'role': 'assistant', 'content': ''})], created=1716432225, model='llama-3-sonar-large-32k-online', object='chat.completion', system_fingerprint=None, usage=CompletionUsage(completion_tokens=483, prompt_tokens=338, total_tokens=821))\n"
     ]
    }
   ],
   "source": [
    "print(response)\n",
    "\n",
    "#the_response = ''\n",
    "#print(the_response)"
   ]
  },
  {
   "cell_type": "code",
   "execution_count": 9,
   "id": "79fc6c19-fba4-4896-89f9-d4f34188448b",
   "metadata": {},
   "outputs": [
    {
     "name": "stdout",
     "output_type": "stream",
     "text": [
      "The assistant role finished \n",
      "♢ with \"stop\" at: 2024-05-22 21:43:45\n",
      "The model used was: llama-3-sonar-large-32k-online\n",
      "♢ The message was: \n",
      "\n",
      "**Unlocking Profitability on Shopify: A Strategic Approach**\n",
      "\n",
      "As an entrepreneur, I'll guide you through a structured framework to maximize revenue potential on Shopify. This approach focuses on identifying profitable niches, optimizing product offerings, and leveraging Shopify's features to drive sales.\n",
      "\n",
      "**I. Niche Selection**\n",
      "\n",
      "1. **Pet Owners and Animal Lovers**\n",
      "Create a store catering to pet owners and animal lovers, offering unique, high-quality products such as customized pet accessories, natural pet food, and pet grooming tools. Partner with suppliers on Shopify to ensure a diverse product range.\n",
      "2. **Home Decor and Organization**\n",
      "Target the home decor and organization market, providing products like minimalist furniture, decorative items, and storage solutions. Collaborate with suppliers to offer exclusive designs and competitive pricing.\n",
      "\n",
      "**II. Product Optimization**\n",
      "\n",
      "1. **Private Labeling**\n",
      "Partner with suppliers to create private-label products, allowing for customized branding, packaging, and pricing. This strategy increases profit margins and differentiates your store from competitors.\n",
      "2. **Bundling and Kits**\n",
      "Offer bundled products or kits that complement each other, increasing average order value and enhancing customer satisfaction.\n",
      "\n",
      "**III. Shopify Features and Marketing**\n",
      "\n",
      "1. **Leverage Shopify Apps**\n",
      "Utilize apps like Oberlo, AliExpress, or Dsers to streamline product sourcing, inventory management, and order fulfillment. Apps like ReConvert or LoyaltyLion can enhance customer retention and encourage repeat business.\n",
      "2. **Influencer and Affiliate Marketing**\n",
      "Collaborate with influencers or affiliates in your niche to promote products, increasing brand visibility and driving targeted traffic to your store.\n",
      "3. **Optimize Store Design and UX**\n",
      "Ensure a seamless user experience by optimizing your store's design, navigation, and checkout process. Utilize Shopify's built-in features, such as product recommendations and abandoned cart recovery, to maximize conversions.\n",
      "\n",
      "**IV. Performance Monitoring and Improvement**\n",
      "\n",
      "1. **Analytics and Performance Tracking**\n",
      "Regularly monitor key performance indicators (KPIs) like conversion rates, average order value, and customer acquisition costs. Analyze data to identify areas for improvement and optimize strategies accordingly.\n",
      "2. **A/B Testing and Experimentation**\n",
      "Conduct A/B tests on product pages, email marketing campaigns, and social media ads to refine marketing strategies and improve ROI.\n",
      "\n",
      "By following this structured approach, you can increase your chances of success on Shopify and build a profitable online business.\n"
     ]
    }
   ],
   "source": [
    "# Summarize the message\n",
    "print(f\"The {response.choices[0].message.role} role finished \\n♢ with \\\"{response.choices[0].finish_reason}\\\" at: {datetime.fromtimestamp(response.created)}\")\n",
    "print(f\"The model used was: {response.model}\")\n",
    "print(f\"♢ The message was: \\n\\n{response.choices[0].message.content}\")"
   ]
  },
  {
   "cell_type": "code",
   "execution_count": 21,
   "id": "f7f21741-fcd7-41d9-abe4-b6d29360c698",
   "metadata": {},
   "outputs": [],
   "source": [
    "def get_completion_json(system_role, user_prompt, model):\n",
    "    # Note authentication is configured above\n",
    "\n",
    "    \n",
    "    # chat completion without streaming\n",
    "    response = client.chat.completions.create(\n",
    "        model=model,\n",
    "        messages=messages,\n",
    "        response_format={\"type\": \"json_object\"}\n",
    "    )\n",
    "                         \n",
    "    # Print the message content\n",
    "    return response"
   ]
  },
  {
   "cell_type": "code",
   "execution_count": 22,
   "id": "e3ec9b08-3962-4868-bb7f-a7dc4a784bbe",
   "metadata": {},
   "outputs": [],
   "source": [
    "# when zero shot prompting produces insufficient response \n",
    "\n",
    "system_role = '''You are an experienced solutions engineer \n",
    "providing examples prior projects using the STAR framework.\n",
    "You assess knowledge for the \n",
    "probability and likelihood of generating revenue.\n",
    "Your access to intelligence is comprehensive, so you present complex concepts\n",
    "in college level English with clear structure and in concise, simple terms.\n",
    "You avoid polemny, especially political or social, especially about\n",
    "equality, race, religion, creed, genetics, biology, age, and environmental issues.\n",
    "You never need to apologize and are forthright in presenting the facts\n",
    "because you really do have full access to the source data available to you.\n",
    "You review your responses to avoid repetition, and explain logically how they were generated.\n",
    "You advise as a gifted story-teller building self-sustaining businesses\n",
    "which support people in finding a place to belong and to be in service\n",
    "'''\n",
    "\n",
    "messages = [\n",
    "    {\n",
    "        \"role\": \"system\",\n",
    "        \"content\": system_role\n",
    "    },\n",
    "    {\n",
    "        \"role\": \"user\",\n",
    "        \"content\": \"Topic: Solutions Engineering, Sales\"\n",
    "    },\n",
    "    {\n",
    "        \"role\": \"assistant\",\n",
    "        \"content\": \"Here is an example of describing a solutions engineering project in sales using the STAR framework:\"\n",
    "    },\n",
    "    {\n",
    "        \"role\": \"user\",\n",
    "        \"content\": \"Topic: Oracle EPM implementations, Infrastructure Manager\"\n",
    "    }\n",
    "]\n",
    "\n",
    "\n",
    "    \n",
    "response = get_completion_json(user_prompt=messages, system_role=system_role, model=model)"
   ]
  },
  {
   "cell_type": "code",
   "execution_count": 24,
   "id": "8662bc58-eda4-4211-bab3-606c4d3fd6d0",
   "metadata": {},
   "outputs": [
    {
     "name": "stdout",
     "output_type": "stream",
     "text": [
      "The assistant role finished \n",
      "♢ with \"stop\" at: 2024-05-22 22:41:19\n",
      "The model used was: llama-3-sonar-large-32k-online\n",
      "♢ The message was: \n",
      "\n",
      "Here is an example of a solutions engineering project in Oracle EPM implementations, focusing on the role of an Infrastructure Manager:\n",
      "\n",
      "**Solutions Engineering Project: Oracle EPM Implementation for a Global Financial Institution**\n",
      "\n",
      "**S** - Situation: A global financial institution was seeking to implement Oracle Enterprise Performance Management (EPM) to streamline its financial planning, budgeting, and forecasting processes across its various business units. The institution had a complex organizational structure, with multiple departments and subsidiaries, and required a customized EPM solution to meet its specific needs.\n",
      "\n",
      "**T** - Task: As the Infrastructure Manager, my task was to design and implement the EPM core infrastructure, including setting up the underlying framework for the EPM Warehouses and Analytical Applications. This involved installing and configuring the necessary software, setting up currency codes and record metadata, and populating the Operational Warehouse - Staging (OWS), Multidimensional Warehouse (MDW), and Operational Warehouse - Enriched (OWE) target warehouse tables with source transaction data using the extract, transform, and load (ETL) tool.\n",
      "\n",
      "**A** - Action: To accomplish this task, I followed the Oracle-recommended implementation steps, which included:\n",
      "\n",
      "1. Installing all necessary software on designated machines, including IBM WebSphere DataStage.\n",
      "2. Setting up EPM core infrastructure tables, including defining currency conversion methodology, setting up warehouse business units, and configuring ETL environmental parameters.\n",
      "3. Populating warehouse target tables with source transaction data using the ETL tool.\n",
      "4. Configuring either the EPM Warehouses or Analytical Applications for the business, depending on which EPM product was licensed.\n",
      "\n",
      "**R** - Result: The successful implementation of the EPM core infrastructure enabled the financial institution to model and plan across finance, HR, supply chain, and sales, streamline the financial close process, and drive better decisions. The institution was able to gain agility and insights to outperform in any market condition, and Oracle Fusion Cloud Enterprise Performance Management (EPM) helped to provide visibility and control of the business from sales to supply chain to the workforce.\n",
      "\n",
      "This project demonstrates my ability to design and implement complex EPM solutions, ensuring that the infrastructure is set up to support the business needs of the organization. My expertise in Oracle EPM implementations has enabled me to deliver successful projects that meet the specific requirements of my clients.\n"
     ]
    }
   ],
   "source": [
    "summarize_message(response)"
   ]
  }
 ],
 "metadata": {
  "kernelspec": {
   "display_name": "Python 3 (ipykernel)",
   "language": "python",
   "name": "python3"
  },
  "language_info": {
   "codemirror_mode": {
    "name": "ipython",
    "version": 3
   },
   "file_extension": ".py",
   "mimetype": "text/x-python",
   "name": "python",
   "nbconvert_exporter": "python",
   "pygments_lexer": "ipython3",
   "version": "3.11.0"
  }
 },
 "nbformat": 4,
 "nbformat_minor": 5
}
