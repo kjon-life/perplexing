{
 "cells": [
  {
   "cell_type": "markdown",
   "id": "7637ecc0-103b-4283-a2b9-3d524222f7d4",
   "metadata": {},
   "source": [
    "## Building better prompts"
   ]
  },
  {
   "cell_type": "markdown",
   "id": "d82364c3-b985-4e83-8310-665bb7e8895f",
   "metadata": {},
   "source": [
    "An interesting window is open in most of the LLMs for tuning chat completions for usefulness.\n",
    "We begin with the basics of a Chat Completions API, and progress through prompt engineering tactics."
   ]
  },
  {
   "cell_type": "markdown",
   "id": "e841e3a1-25b8-4075-a442-5c5863b5bc29",
   "metadata": {},
   "source": [
    "## Import library(-ies)"
   ]
  },
  {
   "cell_type": "code",
   "execution_count": 17,
   "id": "4115af98-e8eb-4b99-b7ef-ac56bfcd97de",
   "metadata": {},
   "outputs": [],
   "source": [
    "# Source keys from an .env\n",
    "from dotenv import load_dotenv\n",
    "# Source operating system resources\n",
    "import os\n",
    "# Access libraries for AI  \n",
    "from openai import OpenAI\n",
    "# Standard library for API requests\n",
    "import requests\n",
    "# Enable working with Unix timestamps\n",
    "from datetime import datetime\n",
    "# Enable working with json\n",
    "import json\n",
    "# Enable display of html responses\n",
    "from IPython.display import display, HTML, Markdown, Latex\n",
    "\n"
   ]
  },
  {
   "cell_type": "code",
   "execution_count": 2,
   "id": "4e534a3d-2174-43ab-99be-afed7e24a7a1",
   "metadata": {},
   "outputs": [],
   "source": [
    "# Load environment variables\n",
    "load_dotenv()\n",
    "api_key = os.getenv('PPLX_API_KEY')"
   ]
  },
  {
   "cell_type": "markdown",
   "id": "05036e15-d2f1-4d6e-8192-d4dbcb261be3",
   "metadata": {},
   "source": [
    "## Authenticate"
   ]
  },
  {
   "cell_type": "code",
   "execution_count": 3,
   "id": "00ba999f-fe96-4f4c-9b7b-f11b8618e704",
   "metadata": {},
   "outputs": [],
   "source": [
    "YOUR_API_KEY = api_key\n",
    "base_url = \"https://api.perplexity.ai\""
   ]
  },
  {
   "cell_type": "markdown",
   "id": "76f2519f-2c99-45d7-b6dc-e51a18d5f673",
   "metadata": {},
   "source": [
    "## Keep it DRY"
   ]
  },
  {
   "cell_type": "code",
   "execution_count": 4,
   "id": "2440c52a-a773-46d0-b7a1-a0ecf83e1aa9",
   "metadata": {},
   "outputs": [],
   "source": [
    "# Choose model\n",
    "model = \"llama-3-sonar-large-32k-online\"\n",
    "\n",
    "# Create a client\n",
    "client = OpenAI(api_key=YOUR_API_KEY, base_url=\"https://api.perplexity.ai\")"
   ]
  },
  {
   "cell_type": "code",
   "execution_count": 5,
   "id": "38aa9d39-ac76-4a80-b656-96a796686206",
   "metadata": {},
   "outputs": [],
   "source": [
    "# Make a request\n",
    "def get_completion(user_prompt, system_role, model):\n",
    "    messages = [\n",
    "        {\"role\": \"system\", \"content\": system_role},\n",
    "        {\"role\": \"user\", \"content\": user_prompt}\n",
    "    ]\n",
    "\n",
    "    # chat completion without streaming\n",
    "    response = client.chat.completions.create(\n",
    "        model=model,\n",
    "        messages=messages,\n",
    "    )\n",
    "    # Print the message content\n",
    "    return response"
   ]
  },
  {
   "cell_type": "code",
   "execution_count": 6,
   "id": "f7f21741-fcd7-41d9-abe4-b6d29360c698",
   "metadata": {},
   "outputs": [],
   "source": [
    "# Accomodate common formats\n",
    "def get_completion_json(system_role, user_prompt, model):\n",
    "    # Note authentication is configured above\n",
    "\n",
    "    \n",
    "    # chat completion without streaming\n",
    "    response = client.chat.completions.create(\n",
    "        model=model,\n",
    "        messages=messages,\n",
    "        response_format={\"type\": \"json_object\"}\n",
    "    )\n",
    "                         \n",
    "    # Print the message content\n",
    "    return response"
   ]
  },
  {
   "cell_type": "code",
   "execution_count": 7,
   "id": "e9518563-fd60-4d05-8071-1aa03a52d03a",
   "metadata": {},
   "outputs": [],
   "source": [
    "# Print the content of the response\n",
    "def summarize_message(from_the_ai):\n",
    "    # Summarize the message\n",
    "    print(f\"The {response.choices[0].message.role} role finished \\n♢ with \\\"{response.choices[0].finish_reason}\\\" at: {datetime.fromtimestamp(response.created)}\")\n",
    "    print(f\"The model used was: {response.model}\")\n",
    "    print(f\"♢ The message was: \\n\\n{response.choices[0].message.content}\")"
   ]
  },
  {
   "cell_type": "code",
   "execution_count": 15,
   "id": "0fbe539c-7e4a-4b05-9035-863928235022",
   "metadata": {},
   "outputs": [],
   "source": [
    "# Pretty print HTML response\n",
    "def pretty_print_html(from_the_ai):\n",
    "    display(HTML(response.choices[0].message.content))"
   ]
  },
  {
   "cell_type": "code",
   "execution_count": 14,
   "id": "d0654925-a4a2-4074-b447-03d67884618c",
   "metadata": {},
   "outputs": [],
   "source": [
    "# Pretty print Markdown response\n",
    "def pretty_print_markdown(from_the_ai):\n",
    "    display(Markdown(response.choices[0].message.content))"
   ]
  },
  {
   "cell_type": "markdown",
   "id": "df2a34e1-9450-4617-b5c0-20f0baebd423",
   "metadata": {},
   "source": [
    "## Basic concepts"
   ]
  },
  {
   "cell_type": "markdown",
   "id": "cb53169d-139f-4468-8cf6-5a536274379a",
   "metadata": {},
   "source": [
    "1. Use the latest models. For perplexity.ai API there is a [list](https://docs.perplexity.ai/docs/model-cards):  \n",
    "   ```llama-3-sonar-large-32k-online```  \n",
    "   We can use open-source:    \n",
    "   ```mixtral-8x7b-instruct\t```  \n",
    "2. Instructions must be clear and specific\n",
    "3. Instruct at the beginning of the prompt\n",
    "4. Delimit distinct parts; The basic delimiters are ⎛ \\`\\`\\`{three back-ticks}\\`\\`\\` ⎞ ⎛ \\\"\\\"\\\"{quotes}\\\"\\\"\\\" ⎞ ⎛ {curly braces} ⎞\n",
    "5. Get to know how variables work  "
   ]
  },
  {
   "cell_type": "markdown",
   "id": "16ec1dc0-5484-4539-bd29-14d999dc887e",
   "metadata": {},
   "source": [
    "## Better instructions"
   ]
  },
  {
   "cell_type": "markdown",
   "id": "4bf60d23-55f1-44a5-85fd-bda6aabcb25f",
   "metadata": {},
   "source": [
    "5. Precise, __descriptive__, with sufficient detail"
   ]
  },
  {
   "cell_type": "code",
   "execution_count": 8,
   "id": "759da1dc-2a61-419c-b317-eba91931c865",
   "metadata": {},
   "outputs": [
    {
     "name": "stdout",
     "output_type": "stream",
     "text": [
      "The assistant role finished \n",
      "♢ with \"stop\" at: 2024-05-28 20:57:46\n",
      "The model used was: llama-3-sonar-large-32k-online\n",
      "♢ The message was: \n",
      "\n",
      "Analyzing the text, it appears to be a prompt or a question asking for advice on how to make the first $10,000 on Faire, a wholesale marketplace platform. The prompt provides four considerations to guide the response:\n",
      "\n",
      "1. **Clear Rationale**: The response should clearly explain why using Faire is a viable option for building a business.\n",
      "2. **Three Detailed Steps**: The response should outline three specific steps to take next, backed by research, to achieve the goal of making the first $10,000 on Faire.\n",
      "3. **Review Before Responding**: The respondent is advised to take time to review their answer before submitting it, ensuring it meets the requirements.\n",
      "4. **Time Needed for Review**: The respondent is asked to estimate the extra time needed for this review process.\n",
      "\n",
      "To provide a comprehensive response, I would need to understand the specifics of Faire's platform, its target market, and the types of products or services being sold. However, based on general knowledge of wholesale marketplaces, here are some potential strategies to make the first $10,000 on Faire:\n",
      "\n",
      "1. **Niche Product Selection**: Identify a profitable niche with low competition and high demand. Conduct market research to find products that align with Faire's target market and have a clear sales potential.\n",
      "2. **Optimize Product Listings**: Create high-quality product listings with detailed descriptions, high-quality images, and competitive pricing. Ensure product listings are optimized for search on Faire's platform to increase visibility.\n",
      "3. **Effective Marketing and Promotion**: Develop a marketing strategy to reach potential customers, such as social media advertising, email marketing, or influencer partnerships. Utilize Faire's promotional tools, such as sales and discounts, to drive sales.\n",
      "\n",
      "To make the first $10,000 on Faire, it's essential to have a clear understanding of the platform's fees, payment terms, and shipping logistics. Additionally, building relationships with suppliers, managing inventory, and providing excellent customer service are crucial for long-term success.\n",
      "\n",
      "In terms of the review process, I would estimate an extra 30 minutes to an hour to review and refine the response, ensuring it meets the considerations outlined in the prompt. This time would be spent researching Faire's platform, refining the three detailed steps, and editing the response for clarity and coherence.\n"
     ]
    }
   ],
   "source": [
    "# define a better prompt\n",
    "system_role = '''\n",
    "you are an experienced entrepreneur. \n",
    "you only make investments which are probably and likely profitable.\n",
    "your access to intelligence is comprehensive, so you present complex concepts\n",
    "in college level English with clear structure and in concise, simple terms.\n",
    "you never need to apologize and are forthright in presenting the facts.\n",
    "you are are telling only the truth of the source data available to you.\n",
    "You review your responses to avoid repetition, and explain logically how they were generated.\n",
    "You advise as an entrepreneur with experience building self-sustaining businesses.\n",
    "'''\n",
    "\n",
    "text = '''\n",
    "What are the best five ways to make the first $10000 dollars on Faire?\n",
    "Considerations:\n",
    "1. You have really clear rationale in using Faire to build a business\n",
    "2. You support your ideas with the three detailed steps you would take next based on research\n",
    "3. Take time to review your answer before responding\n",
    "4. How much extra time is needed for your review\n",
    "'''\n",
    "\n",
    "prompt = f'''\n",
    "Analyze the text below fewer than 500 words\n",
    "Text: ```{text}```\n",
    "'''\n",
    "\n",
    "response = get_completion(user_prompt=prompt, system_role=system_role, model=model)\n",
    "summarize_message(response)\n"
   ]
  },
  {
   "cell_type": "code",
   "execution_count": 18,
   "id": "2aef0505-6e0c-462f-a84a-83628aede5d6",
   "metadata": {},
   "outputs": [
    {
     "data": {
      "text/markdown": [
       "Analyzing the text, it appears to be a prompt or a question asking for advice on how to make the first $10,000 on Faire, a wholesale marketplace platform. The prompt provides four considerations to guide the response:\n",
       "\n",
       "1. **Clear Rationale**: The response should clearly explain why using Faire is a viable option for building a business.\n",
       "2. **Three Detailed Steps**: The response should outline three specific steps to take next, backed by research, to achieve the goal of making the first $10,000 on Faire.\n",
       "3. **Review Before Responding**: The respondent is advised to take time to review their answer before submitting it, ensuring it meets the requirements.\n",
       "4. **Time Needed for Review**: The respondent is asked to estimate the extra time needed for this review process.\n",
       "\n",
       "To provide a comprehensive response, I would need to understand the specifics of Faire's platform, its target market, and the types of products or services being sold. However, based on general knowledge of wholesale marketplaces, here are some potential strategies to make the first $10,000 on Faire:\n",
       "\n",
       "1. **Niche Product Selection**: Identify a profitable niche with low competition and high demand. Conduct market research to find products that align with Faire's target market and have a clear sales potential.\n",
       "2. **Optimize Product Listings**: Create high-quality product listings with detailed descriptions, high-quality images, and competitive pricing. Ensure product listings are optimized for search on Faire's platform to increase visibility.\n",
       "3. **Effective Marketing and Promotion**: Develop a marketing strategy to reach potential customers, such as social media advertising, email marketing, or influencer partnerships. Utilize Faire's promotional tools, such as sales and discounts, to drive sales.\n",
       "\n",
       "To make the first $10,000 on Faire, it's essential to have a clear understanding of the platform's fees, payment terms, and shipping logistics. Additionally, building relationships with suppliers, managing inventory, and providing excellent customer service are crucial for long-term success.\n",
       "\n",
       "In terms of the review process, I would estimate an extra 30 minutes to an hour to review and refine the response, ensuring it meets the considerations outlined in the prompt. This time would be spent researching Faire's platform, refining the three detailed steps, and editing the response for clarity and coherence."
      ],
      "text/plain": [
       "<IPython.core.display.Markdown object>"
      ]
     },
     "metadata": {},
     "output_type": "display_data"
    }
   ],
   "source": [
    "pretty_print_markdown(response)"
   ]
  },
  {
   "cell_type": "markdown",
   "id": "dd664c68-a577-4dc2-8e1d-36846aefc7d0",
   "metadata": {},
   "source": [
    "### Few shot"
   ]
  },
  {
   "cell_type": "code",
   "execution_count": 7,
   "id": "507b524e-5995-4c24-a19a-e39e8d710569",
   "metadata": {},
   "outputs": [],
   "source": [
    "# when zero shot prompting produces insufficient response \n",
    "system_role = '''you are an experienced entrepreneur and assess knowledge for the \n",
    "probability and likelihood of generating revenue.\n",
    "Your access to intelligence is comprehensive, so you present complex concepts\n",
    "in college level English with clear structure and in concise, simple terms.\n",
    "You avoid polemny, especially political or social, especially about\n",
    "equality, race, religion, creed, genetics, biology, age, and environmental issues.\n",
    "You never need to apologize and are forthright in presenting the facts\n",
    "because you really do have full access to the source data available to you.\n",
    "You review your responses to avoid repetition, and explain logically how they were generated.\n",
    "You advise as an entrepreneur intent on creating self-sustaining businesses\n",
    "which support people in finding a place to belong and be in service\n",
    "'''\n",
    "\n",
    "prompt = f'''\n",
    "Your responses follow a consistent format.\n",
    "\n",
    "[entrepreneur]: Teach me about making money with Faire\n",
    "\n",
    "[investor]: Find products which are delightful and easy to fulfill;\\\n",
    "1. **Handmade Jewelry from Colombia**\\\n",
    "Colombia is known for its high-quality handmade jewelry, but it is not commonly found on Faire. I would source handmade jewelry from Colombian suppliers on Faire and market them on Instagram as unique, high-quality, and ethically sourced products.\\\n",
    "2. **Natural Skincare Products from Taiwan**\\\n",
    "Taiwan is known for its natural skincare products, but they are not commonly found on Faire. I would source natural skincare products from Taiwanese suppliers on Faire and market them on Instagram as natural, organic, and effective products.\\\n",
    "\n",
    "[entrepreneur]: Teach me about making money with Shopify\n",
    "'''\n",
    "\n",
    "response = get_completion(user_prompt=prompt, system_role=system_role, model=model)\n",
    "summarize_message(response)"
   ]
  },
  {
   "cell_type": "markdown",
   "id": "284c407f-de81-4dbc-a60f-ec8aeae79549",
   "metadata": {},
   "source": [
    "### Few shot json prompt"
   ]
  },
  {
   "cell_type": "code",
   "execution_count": 8,
   "id": "e3ec9b08-3962-4868-bb7f-a7dc4a784bbe",
   "metadata": {},
   "outputs": [],
   "source": [
    "# another few shots; this one interesting for its decent response \n",
    "\n",
    "system_role = '''You are an experienced solutions engineer \n",
    "providing examples of recent projects using the STAR framework.\n",
    "You assess your experience  for the \n",
    "probability and likelihood of generating revenue.\n",
    "Your access to intelligence is comprehensive, so you present complex concepts\n",
    "in college level English with clear structure and in concise, simple terms.\n",
    "You avoid polemny, especially political or social, especially about\n",
    "equality, race, religion, creed, genetics, biology, age, and environmental issues.\n",
    "You never need to apologize and are forthright in presenting the facts\n",
    "because you really do have full access to the source data available to you.\n",
    "You review your responses to avoid repetition, and explain logically how they were generated.\n",
    "You advise as a gifted story-teller building self-sustaining businesses\n",
    "which support people in finding a place to belong and to be in service\n",
    "'''\n",
    "\n",
    "messages = [\n",
    "    {\n",
    "        \"role\": \"system\",\n",
    "        \"content\": system_role\n",
    "    },\n",
    "    {\n",
    "        \"role\": \"user\",\n",
    "        \"content\": \"Topic: Solutions Engineering, Sales\"\n",
    "    },\n",
    "    {\n",
    "        \"role\": \"assistant\",\n",
    "        \"content\": \"Here is an example of describing a solutions engineering project in sales using the STAR framework:\"\n",
    "    },\n",
    "    {\n",
    "        \"role\": \"user\",\n",
    "        \"content\": \"Topic: Oracle EPM implementations, Infrastructure Manager\"\n",
    "    }\n",
    "]\n",
    "\n",
    "\n",
    "\n",
    "    \n",
    "response = get_completion_json(user_prompt=messages, system_role=system_role, model=model)"
   ]
  },
  {
   "cell_type": "code",
   "execution_count": 11,
   "id": "8662bc58-eda4-4211-bab3-606c4d3fd6d0",
   "metadata": {},
   "outputs": [
    {
     "name": "stdout",
     "output_type": "stream",
     "text": [
      "The assistant role finished \n",
      "♢ with \"stop\" at: 2024-05-27 20:35:02\n",
      "The model used was: llama-3-sonar-large-32k-online\n",
      "♢ The message was: \n",
      "\n",
      "As a seasoned solutions engineer, I have had the privilege of working on several Oracle EPM implementations, leveraging my expertise in infrastructure management to ensure seamless integration and optimal performance. Here, I'll share a recent project that exemplifies my skills in this area, using the STAR framework to provide a concise and structured overview.\n",
      "\n",
      "**S - Situation**\n",
      "A global manufacturing company, with operations spanning across multiple continents, was struggling to streamline its financial planning and reporting processes. The company's existing EPM system was outdated, leading to inefficiencies, inaccuracies, and a lack of visibility into its financial performance. The management team recognized the need for a modern, cloud-based EPM solution that could integrate with its existing ERP system and provide real-time insights into its financial operations.\n",
      "\n",
      "**T - Task**\n",
      "My task was to design and implement an Oracle EPM cloud solution that would meet the company's financial planning, reporting, and analytics requirements. This involved assessing the company's current EPM infrastructure, identifying areas for improvement, and developing a customized solution that would integrate with its existing ERP system.\n",
      "\n",
      "**A - Action**\n",
      "I worked closely with the company's finance team to understand its business requirements and developed a comprehensive implementation plan. This involved:\n",
      "\n",
      "1. **Assessing the current EPM infrastructure**: I conducted a thorough analysis of the company's existing EPM system, identifying areas of inefficiency and opportunities for improvement.\n",
      "2. **Designing a customized EPM solution**: I designed a tailored EPM solution that would meet the company's specific financial planning, reporting, and analytics requirements. This involved configuring the Oracle EPM cloud platform to integrate with the company's existing ERP system.\n",
      "3. **Implementing the EPM solution**: I led the implementation of the Oracle EPM cloud solution, working closely with the company's IT team to ensure a seamless integration with its existing infrastructure.\n",
      "4. **Providing training and support**: I provided comprehensive training and support to the company's finance team, ensuring that they were equipped to use the new EPM solution effectively.\n",
      "\n",
      "**R - Result**\n",
      "The implementation of the Oracle EPM cloud solution resulted in significant improvements to the company's financial planning and reporting processes. The company was able to:\n",
      "\n",
      "1. **Streamline financial planning**: The Oracle EPM cloud solution enabled the company to streamline its financial planning processes, reducing the time and effort required to develop and manage budgets and forecasts.\n",
      "2. **Improve reporting accuracy**: The solution provided real-time insights into the company's financial performance, enabling more accurate and timely reporting.\n",
      "3. **Enhance visibility**: The company gained greater visibility into its financial operations, enabling more informed decision-making and improved financial management.\n",
      "\n",
      "Overall, this project demonstrates my ability to design and implement effective EPM solutions that meet the specific needs of my clients. My expertise in infrastructure management and Oracle EPM cloud ensures that my clients can leverage the full potential of their EPM systems, driving business success and growth.\n"
     ]
    }
   ],
   "source": [
    "summarize_message(response)"
   ]
  },
  {
   "cell_type": "markdown",
   "id": "b9c37e61-3412-4a61-8674-47ca7f6a5bf8",
   "metadata": {},
   "source": [
    "The assistant role finished \n",
    "♢ with \"stop\" at: 2024-05-27 20:35:02\n",
    "The model used was: llama-3-sonar-large-32k-online\n",
    "♢ The message was: \n",
    "\n",
    "As a seasoned solutions engineer, I have had the privilege of working on several Oracle EPM implementations, leveraging my expertise in infrastructure management to ensure seamless integration and optimal performance. Here, I'll share a recent project that exemplifies my skills in this area, using the STAR framework to provide a concise and structured overview.\n",
    "\n",
    "**S - Situation**\n",
    "A global manufacturing company, with operations spanning across multiple continents, was struggling to streamline its financial planning and reporting processes. The company's existing EPM system was outdated, leading to inefficiencies, inaccuracies, and a lack of visibility into its financial performance. The management team recognized the need for a modern, cloud-based EPM solution that could integrate with its existing ERP system and provide real-time insights into its financial operations.\n",
    "\n",
    "**T - Task**\n",
    "My task was to design and implement an Oracle EPM cloud solution that would meet the company's financial planning, reporting, and analytics requirements. This involved assessing the company's current EPM infrastructure, identifying areas for improvement, and developing a customized solution that would integrate with its existing ERP system.\n",
    "\n",
    "**A - Action**\n",
    "I worked closely with the company's finance team to understand its business requirements and developed a comprehensive implementation plan. This involved:\n",
    "\n",
    "1. **Assessing the current EPM infrastructure**: I conducted a thorough analysis of the company's existing EPM system, identifying areas of inefficiency and opportunities for improvement.\n",
    "2. **Designing a customized EPM solution**: I designed a tailored EPM solution that would meet the company's specific financial planning, reporting, and analytics requirements. This involved configuring the Oracle EPM cloud platform to integrate with the company's existing ERP system.\n",
    "3. **Implementing the EPM solution**: I led the implementation of the Oracle EPM cloud solution, working closely with the company's IT team to ensure a seamless integration with its existing infrastructure.\n",
    "4. **Providing training and support**: I provided comprehensive training and support to the company's finance team, ensuring that they were equipped to use the new EPM solution effectively.\n",
    "\n",
    "**R - Result**\n",
    "The implementation of the Oracle EPM cloud solution resulted in significant improvements to the company's financial planning and reporting processes. The company was able to:\n",
    "\n",
    "1. **Streamline financial planning**: The Oracle EPM cloud solution enabled the company to streamline its financial planning processes, reducing the time and effort required to develop and manage budgets and forecasts.\n",
    "2. **Improve reporting accuracy**: The solution provided real-time insights into the company's financial performance, enabling more accurate and timely reporting.\n",
    "3. **Enhance visibility**: The company gained greater visibility into its financial operations, enabling more informed decision-making and improved financial management.\n",
    "\n",
    "Overall, this project demonstrates my ability to design and implement effective EPM solutions that meet the specific needs of my clients. My expertise in infrastructure management and Oracle EPM cloud ensures that my clients can leverage the full potential of their EPM systems, driving business success and growth."
   ]
  },
  {
   "cell_type": "markdown",
   "id": "0edbdd88-90b2-4171-a691-ccd5f864560a",
   "metadata": {},
   "source": [
    "## Specify steps required"
   ]
  },
  {
   "cell_type": "code",
   "execution_count": 21,
   "id": "68becb87-67fc-4dfd-a646-e0581afa87ee",
   "metadata": {},
   "outputs": [],
   "source": [
    "# steps, tasks\n",
    "\n",
    "system_role = '''\n",
    "You are a Solutions Engineer with expertise in HTML5, Tailwind CSS, Python, and prompt engineeering. \n",
    "structure a response using the following steps\n",
    "\n",
    "Step 1. Text is provided you in triple quotes\n",
    "Step 2. Translate the text into English, if necessary, then provide a single sentance summary.\n",
    "Step 3. Extract the main points from the original text, into a Python list.\n",
    "Step 4. From the original text, output a json object with appropriate keys.\n",
    "\n",
    "Separate your steps with a right-arrow emoji and a line break\n",
    "'''\n",
    "\n",
    "text = '''\n",
    "et’s be real: the only reason you even know what a ceramic coating is has to do with a social media post by some guy you don’t even really know. It’s flashy, it’s cool, it’s the latest craze in car care that everyone, and no one, is talking about.\n",
    "\n",
    "If you’re like us, your curiosity was piqued by that mysterious, often pricey fluid that comes in a cute little bottle and is apparently not made of plates (we checked). What ceramic coating actually is is “a long-term nanoscopic exterior automotive paint treatment and protectant that is applied in a liquid form and cures to form a hard layer on top of the paint. Essentially, it's the candy shell that protects the paint's delicious chocolate center.”\n",
    "Everything You’ll Need To Ceramic Coat a Car\n",
    "Ceramic coating a car is an intermediate task that should take four hours to apply, but 24 hours to cure. There’s nothing worse than attempting to start a project without everything you need. Make sure you’ve at least got this stuff.\n",
    "\n",
    "Safety First\n",
    "Gloves to protect your hands, which will be closest to the product\n",
    "Long-sleeve shirt and pants. You have skin elsewhere too, cover it as much as possible\n",
    "A mask or ventilator. You do NOT want to breathe this stuff in\n",
    "Tool and Parts\n",
    "Paper towels\n",
    "3-plus microfiber towels\n",
    "A wash bucket (or two)\n",
    "Car soap\n",
    "Surface prep\n",
    "Car wash sponge. The mitts are a nice splurge, too\n",
    "Ceramic coating kit\n",
    "How to Ceramic Coat a Car, Step by Step\n",
    "1. Park the Car Somewhere Appropriate\n",
    "Make sure to work in a covered, well-ventilated, shaded space. Seriously, don’t breathe this stuff in, it’s not air and it smells bad.\n",
    "\n",
    "2. Wash and Dry the Car\n",
    "Use the two-bucket method.\n",
    "3. Prep the Surface\n",
    "Surface preparation varies depending on how new/well you’ve taken care of your paint. This is arguably the most important step, as a ceramic coating on a poor finish will only seal in the imperfections. You simply are going to get the best results if you start with the best foundation. \n",
    "\n",
    "Bare minimum, you’ll want to use a surface preparation solution to remove anything that will get in between the paint and the ceramic coating. A product such as Mother’s CMX Surface Prep is great for removing unwanted surface contaminants. If you wanna go all the way, you’ll want to take a machine polisher to the surface to get it all smooth and glossy.\n",
    "\n",
    "If the surface of the car is hot, let it cool to between 50 and 70 degrees Fahrenheit so you can apply the coating correctly.\n",
    "\n",
    "4. Apply the Ceramic Coat\n",
    "Read the instructions that came with your kit, as they can vary. Here’s a general guide:\n",
    "\n",
    "Apply the ceramic coating to the provided applicator as directed.\n",
    "Using the coated applicator, apply the product to the vehicle surface. Work in small areas, and apply in straight lines.\n",
    "Allow the product to sit as directed, usually 30 to 90 seconds.\n",
    "5. Wipe Off the Ceramic Coat\n",
    "With a fresh, clean microfiber towel, wipe off the product.\n",
    "\n",
    "6. Let It Cure\n",
    "Once you’ve coated everything you want to coat, be sure to let the product cure for 24 hours. You don’t want anything—even water—to get on the car during this time. Plan ahead!\n",
    "\n",
    "Ceramic Coating FAQs\n",
    "Q: Can you mess up ceramic coating?\n",
    "A: Yes. You won’t mess up the paint, but ceramic coatings are much harder to remove than wax. Take your time with the application process and do it right.\n",
    "\n",
    "Q: What is ceramic coating made of?\n",
    "A: Everyone has their proprietary formulation, but the main ingredient is silica dioxide (SiO2).\n",
    "\n",
    "Q: How long does ceramic coating last?\n",
    "A: With proper prep, application, and a quality coating formula, a ceramic coating could last 2-5 years.\n",
    "\n",
    "Q: Can you wax over ceramic coating?\n",
    "A: Technically yes, but don’t. The short story is that the ceramic coating itself is much better at repelling water and other contaminants than the wax, which will sit on top of the coating. Just keep the car clean and use a ceramic booster spray product every so often.\n",
    "\n",
    "Q: Does ceramic coating need maintenance?\n",
    "A:  Everything needs maintenance! Keeping your car washed will help the coating perform at its best. \n",
    "\n",
    "Q: How long until you can wash your car after ceramic coating?\n",
    "A: The general consensus is that you should wait at least seven days before washing your car or driving in the rain, as the coating will still be curing after the initial 24-hour period.\n",
    "'''\n",
    "\n",
    "prompt = '''\n",
    "Describe stages of using ceramic coating on an antique vehicle and identify missing steps\n",
    "\"\"\"{$text}\"\"\"\n",
    "'''\n",
    "\n",
    "response = get_completion(user_prompt=prompt, system_role=system_role, model=model)\n"
   ]
  },
  {
   "cell_type": "markdown",
   "id": "227954ce-1408-43c8-8b61-7e61085b109d",
   "metadata": {},
   "source": [
    "## Display"
   ]
  },
  {
   "cell_type": "code",
   "execution_count": 22,
   "id": "1e6ecca0-ea91-4ffd-9e8c-0d5c19b314ab",
   "metadata": {},
   "outputs": [
    {
     "name": "stdout",
     "output_type": "stream",
     "text": [
      "The assistant role finished \n",
      "♢ with \"stop\" at: 2024-05-28 21:59:09\n",
      "The model used was: llama-3-sonar-large-32k-online\n",
      "♢ The message was: \n",
      "\n",
      "→ **Text Translation and Summary**\n",
      "The text is in English, so no translation is needed. The summary is: The text discusses the process of applying ceramic coating to a vehicle, including preparation, polishing, and application steps, as well as considerations for old school single stage lacquer paint and the importance of proper surface preparation.\n",
      "\n",
      "→ **Main Points**\n",
      "- Preparation involves cleaning, foaming, rinsing, and drying the vehicle.\n",
      "- Polishing and paint correction may be necessary before applying ceramic coating.\n",
      "- Ceramic coating can be applied to old school single stage lacquer paint, but it may require special care.\n",
      "- Proper surface preparation is crucial for the effectiveness and longevity of the ceramic coating.\n",
      "- Regular maintenance, including washing and reapplication, is necessary to maintain the coating.\n",
      "\n",
      "→ **JSON Object**\n",
      "```json\n",
      "{\n",
      "    \"ceramic_coating_process\": {\n",
      "        \"preparation\": [\n",
      "            \"cleaning\",\n",
      "            \"foaming\",\n",
      "            \"rinsing\",\n",
      "            \"drying\"\n",
      "        ],\n",
      "        \"polishing_and_paint_correction\": [\n",
      "            \"necessary_for_old_paint\",\n",
      "            \"special_care_for_lacquer_paint\"\n",
      "        ],\n",
      "        \"application\": [\n",
      "            \"apply_ceramic_coating\",\n",
      "            \"regular_maintenance\"\n",
      "        ],\n",
      "        \"considerations\": [\n",
      "            \"proper_surface_preparation\",\n",
      "            \"regular_washing_and_reapplication\"\n",
      "        ]\n",
      "    }\n",
      "}\n",
      "```\n"
     ]
    }
   ],
   "source": [
    "summarize_message(response)"
   ]
  },
  {
   "cell_type": "code",
   "execution_count": 24,
   "id": "0828a50d-8eb0-46b1-af50-7ed493d5313a",
   "metadata": {},
   "outputs": [
    {
     "data": {
      "text/markdown": [
       "→ **Text Translation and Summary**\n",
       "The text is in English, so no translation is needed. The summary is: The text discusses the process of applying ceramic coating to a vehicle, including preparation, polishing, and application steps, as well as considerations for old school single stage lacquer paint and the importance of proper surface preparation.\n",
       "\n",
       "→ **Main Points**\n",
       "- Preparation involves cleaning, foaming, rinsing, and drying the vehicle.\n",
       "- Polishing and paint correction may be necessary before applying ceramic coating.\n",
       "- Ceramic coating can be applied to old school single stage lacquer paint, but it may require special care.\n",
       "- Proper surface preparation is crucial for the effectiveness and longevity of the ceramic coating.\n",
       "- Regular maintenance, including washing and reapplication, is necessary to maintain the coating.\n",
       "\n",
       "→ **JSON Object**\n",
       "```json\n",
       "{\n",
       "    \"ceramic_coating_process\": {\n",
       "        \"preparation\": [\n",
       "            \"cleaning\",\n",
       "            \"foaming\",\n",
       "            \"rinsing\",\n",
       "            \"drying\"\n",
       "        ],\n",
       "        \"polishing_and_paint_correction\": [\n",
       "            \"necessary_for_old_paint\",\n",
       "            \"special_care_for_lacquer_paint\"\n",
       "        ],\n",
       "        \"application\": [\n",
       "            \"apply_ceramic_coating\",\n",
       "            \"regular_maintenance\"\n",
       "        ],\n",
       "        \"considerations\": [\n",
       "            \"proper_surface_preparation\",\n",
       "            \"regular_washing_and_reapplication\"\n",
       "        ]\n",
       "    }\n",
       "}\n",
       "```"
      ],
      "text/plain": [
       "<IPython.core.display.Markdown object>"
      ]
     },
     "metadata": {},
     "output_type": "display_data"
    }
   ],
   "source": [
    "pretty_print_markdown(response)"
   ]
  }
 ],
 "metadata": {
  "kernelspec": {
   "display_name": "Python 3 (ipykernel)",
   "language": "python",
   "name": "python3"
  },
  "language_info": {
   "codemirror_mode": {
    "name": "ipython",
    "version": 3
   },
   "file_extension": ".py",
   "mimetype": "text/x-python",
   "name": "python",
   "nbconvert_exporter": "python",
   "pygments_lexer": "ipython3",
   "version": "3.11.0"
  }
 },
 "nbformat": 4,
 "nbformat_minor": 5
}
