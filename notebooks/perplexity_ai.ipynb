{
 "cells": [
  {
   "cell_type": "markdown",
   "id": "7637ecc0-103b-4283-a2b9-3d524222f7d4",
   "metadata": {},
   "source": [
    "### Building better prompts"
   ]
  },
  {
   "cell_type": "code",
   "execution_count": null,
   "id": "5a9bba3f-fbac-4391-932e-8f8211245e93",
   "metadata": {},
   "outputs": [],
   "source": []
  },
  {
   "cell_type": "markdown",
   "id": "e841e3a1-25b8-4075-a442-5c5863b5bc29",
   "metadata": {},
   "source": [
    "### Import library"
   ]
  },
  {
   "cell_type": "code",
   "execution_count": 13,
   "id": "4115af98-e8eb-4b99-b7ef-ac56bfcd97de",
   "metadata": {},
   "outputs": [],
   "source": [
    "from dotenv import load_dotenv\n",
    "import os\n",
    "from openai import OpenAI\n",
    "import requests"
   ]
  },
  {
   "cell_type": "code",
   "execution_count": 14,
   "id": "4e534a3d-2174-43ab-99be-afed7e24a7a1",
   "metadata": {},
   "outputs": [],
   "source": [
    "# Load environment variables\n",
    "load_dotenv()\n",
    "api_key = os.getenv('PPLX_API_KEY')"
   ]
  },
  {
   "cell_type": "markdown",
   "id": "05036e15-d2f1-4d6e-8192-d4dbcb261be3",
   "metadata": {},
   "source": [
    "### Authenticate"
   ]
  },
  {
   "cell_type": "code",
   "execution_count": 21,
   "id": "51d821cc-5f9b-4ee6-a0be-4c273e25ee93",
   "metadata": {},
   "outputs": [
    {
     "name": "stdout",
     "output_type": "stream",
     "text": [
      "Request failed with status code 404\n"
     ]
    }
   ],
   "source": [
    "# Set the endpoint URL\n",
    "url = 'https://api.perplexity.ai/v1/completions'\n",
    "\n",
    "# Set the headers for the API request\n",
    "headers = {\n",
    "    'Content-Type': 'application/json',\n",
    "    'Authorization': f'Bearer {api_key}'\n",
    "}\n",
    "\n",
    "base_url = 'https://api.perplexity.ai'\n",
    "\n",
    "headers = {\n",
    "    'Authorization': f'Bearer {api_key}',\n",
    "    'Content-Type': 'application/json'\n",
    "}\n",
    "\n",
    "# Make an API request\n",
    "response = requests.post(\n",
    "    f'{base_url}/v1/completions',\n",
    "    headers=headers,\n",
    "    json={\n",
    "        'model': 'claude-3',\n",
    "        'prompt': 'Hello Claude! How are you doing today?',\n",
    "        'max_tokens': 100,\n",
    "        'temperature': 0.7\n",
    "    }\n",
    ")\n",
    "\n",
    "# Check the response status code\n",
    "if response.status_code == 200:\n",
    "    result = response.json()\n",
    "    print(result['completion'])\n",
    "else:\n",
    "    print(f'Request failed with status code {response.status_code}')"
   ]
  },
  {
   "cell_type": "markdown",
   "id": "76f2519f-2c99-45d7-b6dc-e51a18d5f673",
   "metadata": {},
   "source": [
    "### Create API request with data"
   ]
  },
  {
   "cell_type": "code",
   "execution_count": 22,
   "id": "dd6462c9-369a-4625-9ba2-325389f55989",
   "metadata": {},
   "outputs": [
    {
     "name": "stdout",
     "output_type": "stream",
     "text": [
      "Request failed with status code 404\n"
     ]
    }
   ],
   "source": [
    "import requests\n",
    "\n",
    "YOUR_API_KEY = api_key\n",
    "base_url = \"https://api.perplexity.ai\"\n",
    "\n",
    "headers = {\n",
    "    \"Authorization\": f\"Bearer {YOUR_API_KEY}\",\n",
    "    \"Content-Type\": \"application/json\",\n",
    "}\n",
    "\n",
    "messages = [\n",
    "    {\n",
    "        \"role\": \"system\",\n",
    "        \"content\": (\n",
    "            \"You are an artificial intelligence assistant and you need to \"\n",
    "            \"engage in a helpful, detailed, polite conversation with a user.\"\n",
    "        ),\n",
    "    },\n",
    "    {\n",
    "        \"role\": \"user\",\n",
    "        \"content\": \"How many stars are in the universe?\",\n",
    "    },\n",
    "]\n",
    "\n",
    "# chat completion without streaming\n",
    "response = requests.post(\n",
    "    f\"{base_url}/v1/completions\",\n",
    "    headers=headers,\n",
    "    json={\n",
    "        \"model\": \"llama-3-sonar-large-32k-online\",\n",
    "        \"messages\": messages,\n",
    "    },\n",
    ")\n",
    "\n",
    "if response.status_code == 200:\n",
    "    result = response.json()\n",
    "    print(result[\"completion\"])\n",
    "else:\n",
    "    print(f\"Request failed with status code {response.status_code}\")"
   ]
  },
  {
   "cell_type": "code",
   "execution_count": 24,
   "id": "2440c52a-a773-46d0-b7a1-a0ecf83e1aa9",
   "metadata": {},
   "outputs": [
    {
     "name": "stdout",
     "output_type": "stream",
     "text": [
      "ChatCompletion(id='d6ce9960-ceca-4e3d-a046-271e40dfb8a1', choices=[Choice(finish_reason='stop', index=0, logprobs=None, message=ChatCompletionMessage(content=\"The number of stars in the universe is a mind-boggling topic that has fascinated humans for centuries. While we can't give an exact count, astronomers have made various estimates based on observations and calculations.\\n\\n**The Milky Way Galaxy**\\n-------------------------\\n\\nOur home galaxy, the Milky Way, is estimated to contain approximately **400 billion stars**. This number is significant, but it's just a small fraction of the total number of stars in the universe.\\n\\n**Galaxies in the Universe**\\n---------------------------\\n\\nThe number of galaxies in the universe is estimated to be between **6 and 20 trillion**. This vast number is based on observations and extrapolations of what lies beyond our current capabilities to observe.\\n\\n**Estimating the Total Number of Stars**\\n--------------------------------------\\n\\nA simple calculation would be to multiply the number of stars in the Milky Way by the number of galaxies in the universe. However, this approach is insufficient because our galaxy is not typical, and neither is our Sun. A more accurate estimate involves considering the diversity of galaxies and stars.\\n\\n**Astronomical Estimates**\\n-------------------------\\n\\nAstronomers have made various estimates, including:\\n\\n* **200 billion trillion stars** in the universe, based on the number of stars in the Milky Way and the number of galaxies.\\n* **10^22 to 10^24 stars** in the universe, which is a rough estimate considering the number of galaxies and stars in each galaxy.\\n\\n**Challenges and Limitations**\\n-----------------------------\\n\\nCounting stars is a complex task due to the vast distances involved and the limitations of our observation capabilities. Astronomers use various methods, including:\\n\\n* Counting galaxies in small parts of the sky and extrapolating to the entire universe.\\n* Estimating the number of stars in a typical galaxy and multiplying it by the number of galaxies.\\n* Measuring the luminosity of galaxies and stars to estimate their number.\\n\\n**Conclusion**\\n----------\\n\\nWhile we can't give an exact number of stars in the universe, estimates suggest that there are hundreds of billions of trillions of stars out there. The universe is vast and complex, and ongoing research and missions like the Gaia space probe are helping us better understand its scale and structure.\", role='assistant', function_call=None, tool_calls=None), delta={'role': 'assistant', 'content': ''})], created=1716179974, model='llama-3-sonar-large-32k-online', object='chat.completion', system_fingerprint=None, usage=CompletionUsage(completion_tokens=461, prompt_tokens=57, total_tokens=518))\n"
     ]
    }
   ],
   "source": [
    "from openai import OpenAI\n",
    "\n",
    "YOUR_API_KEY = api_key\n",
    "\n",
    "messages = [\n",
    "    {\n",
    "        \"role\": \"system\",\n",
    "        \"content\": (\n",
    "            \"You are an artificial intelligence assistant and you need to \"\n",
    "            \"engage in a helpful, detailed, polite conversation with a user.\"\n",
    "        ),\n",
    "    },\n",
    "    {\n",
    "        \"role\": \"user\",\n",
    "        \"content\": \"How many stars are in the universe?\",\n",
    "    },\n",
    "]\n",
    "\n",
    "client = OpenAI(api_key=YOUR_API_KEY, base_url=\"https://api.perplexity.ai\")\n",
    "\n",
    "# chat completion without streaming\n",
    "response = client.chat.completions.create(\n",
    "    model=\"llama-3-sonar-large-32k-online\",\n",
    "    messages=messages,\n",
    ")\n",
    "print(response)"
   ]
  },
  {
   "cell_type": "code",
   "execution_count": null,
   "id": "c762be73-1587-43c7-949f-b2a13364c6e7",
   "metadata": {},
   "outputs": [],
   "source": []
  }
 ],
 "metadata": {
  "kernelspec": {
   "display_name": "Python 3 (ipykernel)",
   "language": "python",
   "name": "python3"
  },
  "language_info": {
   "codemirror_mode": {
    "name": "ipython",
    "version": 3
   },
   "file_extension": ".py",
   "mimetype": "text/x-python",
   "name": "python",
   "nbconvert_exporter": "python",
   "pygments_lexer": "ipython3",
   "version": "3.11.0"
  }
 },
 "nbformat": 4,
 "nbformat_minor": 5
}
